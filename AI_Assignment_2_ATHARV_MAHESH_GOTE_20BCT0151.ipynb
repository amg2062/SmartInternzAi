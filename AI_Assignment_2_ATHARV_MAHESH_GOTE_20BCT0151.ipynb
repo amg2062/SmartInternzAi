{
  "nbformat": 4,
  "nbformat_minor": 0,
  "metadata": {
    "colab": {
      "provenance": [],
      "collapsed_sections": [
        "quqiM-fQffG5",
        "iFGnjIN-gJWW",
        "-Dzek92Oga2H",
        "qNJFbu6JRFgJ",
        "vb1OlNMtXjQc",
        "1__dl6vLf3Ih",
        "hxIcr2bFf9C1",
        "8wyDgG4BIDAs",
        "AM276koXcS6Y"
      ]
    },
    "kernelspec": {
      "name": "python3",
      "display_name": "Python 3"
    },
    "language_info": {
      "name": "python"
    }
  },
  "cells": [
    {
      "cell_type": "markdown",
      "source": [
        "#Task 1 : Read the dataset and do data pre-processing"
      ],
      "metadata": {
        "id": "quqiM-fQffG5"
      }
    },
    {
      "cell_type": "markdown",
      "source": [
        "##Importing Necessary Libraries"
      ],
      "metadata": {
        "id": "iFGnjIN-gJWW"
      }
    },
    {
      "cell_type": "code",
      "execution_count": null,
      "metadata": {
        "id": "1Y7G_4YMHbpt"
      },
      "outputs": [],
      "source": [
        "import numpy as np\n",
        "import pandas as pd\n",
        "import matplotlib.pyplot as plt\n",
        "import seaborn as sns"
      ]
    },
    {
      "cell_type": "markdown",
      "source": [
        "##Reading the Dataset"
      ],
      "metadata": {
        "id": "pVjOu5S7gSBW"
      }
    },
    {
      "cell_type": "code",
      "source": [
        "from google.colab import files\n",
        "uploaded = files.upload()"
      ],
      "metadata": {
        "colab": {
          "base_uri": "https://localhost:8080/",
          "height": 73
        },
        "id": "Wiy2ANTzJHDp",
        "outputId": "e3cea4c4-9c2d-4122-f92b-1ac5125a2039"
      },
      "execution_count": null,
      "outputs": [
        {
          "output_type": "display_data",
          "data": {
            "text/plain": [
              "<IPython.core.display.HTML object>"
            ],
            "text/html": [
              "\n",
              "     <input type=\"file\" id=\"files-d110c429-36d4-48c5-9e62-ca639eda9a44\" name=\"files[]\" multiple disabled\n",
              "        style=\"border:none\" />\n",
              "     <output id=\"result-d110c429-36d4-48c5-9e62-ca639eda9a44\">\n",
              "      Upload widget is only available when the cell has been executed in the\n",
              "      current browser session. Please rerun this cell to enable.\n",
              "      </output>\n",
              "      <script>// Copyright 2017 Google LLC\n",
              "//\n",
              "// Licensed under the Apache License, Version 2.0 (the \"License\");\n",
              "// you may not use this file except in compliance with the License.\n",
              "// You may obtain a copy of the License at\n",
              "//\n",
              "//      http://www.apache.org/licenses/LICENSE-2.0\n",
              "//\n",
              "// Unless required by applicable law or agreed to in writing, software\n",
              "// distributed under the License is distributed on an \"AS IS\" BASIS,\n",
              "// WITHOUT WARRANTIES OR CONDITIONS OF ANY KIND, either express or implied.\n",
              "// See the License for the specific language governing permissions and\n",
              "// limitations under the License.\n",
              "\n",
              "/**\n",
              " * @fileoverview Helpers for google.colab Python module.\n",
              " */\n",
              "(function(scope) {\n",
              "function span(text, styleAttributes = {}) {\n",
              "  const element = document.createElement('span');\n",
              "  element.textContent = text;\n",
              "  for (const key of Object.keys(styleAttributes)) {\n",
              "    element.style[key] = styleAttributes[key];\n",
              "  }\n",
              "  return element;\n",
              "}\n",
              "\n",
              "// Max number of bytes which will be uploaded at a time.\n",
              "const MAX_PAYLOAD_SIZE = 100 * 1024;\n",
              "\n",
              "function _uploadFiles(inputId, outputId) {\n",
              "  const steps = uploadFilesStep(inputId, outputId);\n",
              "  const outputElement = document.getElementById(outputId);\n",
              "  // Cache steps on the outputElement to make it available for the next call\n",
              "  // to uploadFilesContinue from Python.\n",
              "  outputElement.steps = steps;\n",
              "\n",
              "  return _uploadFilesContinue(outputId);\n",
              "}\n",
              "\n",
              "// This is roughly an async generator (not supported in the browser yet),\n",
              "// where there are multiple asynchronous steps and the Python side is going\n",
              "// to poll for completion of each step.\n",
              "// This uses a Promise to block the python side on completion of each step,\n",
              "// then passes the result of the previous step as the input to the next step.\n",
              "function _uploadFilesContinue(outputId) {\n",
              "  const outputElement = document.getElementById(outputId);\n",
              "  const steps = outputElement.steps;\n",
              "\n",
              "  const next = steps.next(outputElement.lastPromiseValue);\n",
              "  return Promise.resolve(next.value.promise).then((value) => {\n",
              "    // Cache the last promise value to make it available to the next\n",
              "    // step of the generator.\n",
              "    outputElement.lastPromiseValue = value;\n",
              "    return next.value.response;\n",
              "  });\n",
              "}\n",
              "\n",
              "/**\n",
              " * Generator function which is called between each async step of the upload\n",
              " * process.\n",
              " * @param {string} inputId Element ID of the input file picker element.\n",
              " * @param {string} outputId Element ID of the output display.\n",
              " * @return {!Iterable<!Object>} Iterable of next steps.\n",
              " */\n",
              "function* uploadFilesStep(inputId, outputId) {\n",
              "  const inputElement = document.getElementById(inputId);\n",
              "  inputElement.disabled = false;\n",
              "\n",
              "  const outputElement = document.getElementById(outputId);\n",
              "  outputElement.innerHTML = '';\n",
              "\n",
              "  const pickedPromise = new Promise((resolve) => {\n",
              "    inputElement.addEventListener('change', (e) => {\n",
              "      resolve(e.target.files);\n",
              "    });\n",
              "  });\n",
              "\n",
              "  const cancel = document.createElement('button');\n",
              "  inputElement.parentElement.appendChild(cancel);\n",
              "  cancel.textContent = 'Cancel upload';\n",
              "  const cancelPromise = new Promise((resolve) => {\n",
              "    cancel.onclick = () => {\n",
              "      resolve(null);\n",
              "    };\n",
              "  });\n",
              "\n",
              "  // Wait for the user to pick the files.\n",
              "  const files = yield {\n",
              "    promise: Promise.race([pickedPromise, cancelPromise]),\n",
              "    response: {\n",
              "      action: 'starting',\n",
              "    }\n",
              "  };\n",
              "\n",
              "  cancel.remove();\n",
              "\n",
              "  // Disable the input element since further picks are not allowed.\n",
              "  inputElement.disabled = true;\n",
              "\n",
              "  if (!files) {\n",
              "    return {\n",
              "      response: {\n",
              "        action: 'complete',\n",
              "      }\n",
              "    };\n",
              "  }\n",
              "\n",
              "  for (const file of files) {\n",
              "    const li = document.createElement('li');\n",
              "    li.append(span(file.name, {fontWeight: 'bold'}));\n",
              "    li.append(span(\n",
              "        `(${file.type || 'n/a'}) - ${file.size} bytes, ` +\n",
              "        `last modified: ${\n",
              "            file.lastModifiedDate ? file.lastModifiedDate.toLocaleDateString() :\n",
              "                                    'n/a'} - `));\n",
              "    const percent = span('0% done');\n",
              "    li.appendChild(percent);\n",
              "\n",
              "    outputElement.appendChild(li);\n",
              "\n",
              "    const fileDataPromise = new Promise((resolve) => {\n",
              "      const reader = new FileReader();\n",
              "      reader.onload = (e) => {\n",
              "        resolve(e.target.result);\n",
              "      };\n",
              "      reader.readAsArrayBuffer(file);\n",
              "    });\n",
              "    // Wait for the data to be ready.\n",
              "    let fileData = yield {\n",
              "      promise: fileDataPromise,\n",
              "      response: {\n",
              "        action: 'continue',\n",
              "      }\n",
              "    };\n",
              "\n",
              "    // Use a chunked sending to avoid message size limits. See b/62115660.\n",
              "    let position = 0;\n",
              "    do {\n",
              "      const length = Math.min(fileData.byteLength - position, MAX_PAYLOAD_SIZE);\n",
              "      const chunk = new Uint8Array(fileData, position, length);\n",
              "      position += length;\n",
              "\n",
              "      const base64 = btoa(String.fromCharCode.apply(null, chunk));\n",
              "      yield {\n",
              "        response: {\n",
              "          action: 'append',\n",
              "          file: file.name,\n",
              "          data: base64,\n",
              "        },\n",
              "      };\n",
              "\n",
              "      let percentDone = fileData.byteLength === 0 ?\n",
              "          100 :\n",
              "          Math.round((position / fileData.byteLength) * 100);\n",
              "      percent.textContent = `${percentDone}% done`;\n",
              "\n",
              "    } while (position < fileData.byteLength);\n",
              "  }\n",
              "\n",
              "  // All done.\n",
              "  yield {\n",
              "    response: {\n",
              "      action: 'complete',\n",
              "    }\n",
              "  };\n",
              "}\n",
              "\n",
              "scope.google = scope.google || {};\n",
              "scope.google.colab = scope.google.colab || {};\n",
              "scope.google.colab._files = {\n",
              "  _uploadFiles,\n",
              "  _uploadFilesContinue,\n",
              "};\n",
              "})(self);\n",
              "</script> "
            ]
          },
          "metadata": {}
        },
        {
          "output_type": "stream",
          "name": "stdout",
          "text": [
            "Saving drug200.csv to drug200 (1).csv\n"
          ]
        }
      ]
    },
    {
      "cell_type": "code",
      "source": [
        "df = pd.read_csv('drug200.csv')\n",
        "df"
      ],
      "metadata": {
        "colab": {
          "base_uri": "https://localhost:8080/",
          "height": 423
        },
        "id": "GLR5zZ2hJOS2",
        "outputId": "267097a9-a74d-43ac-c5af-95b3c69c829f"
      },
      "execution_count": null,
      "outputs": [
        {
          "output_type": "execute_result",
          "data": {
            "text/plain": [
              "     Age Sex      BP Cholesterol  Na_to_K   Drug\n",
              "0     23   F    HIGH        HIGH   25.355  DrugY\n",
              "1     47   M     LOW        HIGH   13.093  drugC\n",
              "2     47   M     LOW        HIGH   10.114  drugC\n",
              "3     28   F  NORMAL        HIGH    7.798  drugX\n",
              "4     61   F     LOW        HIGH   18.043  DrugY\n",
              "..   ...  ..     ...         ...      ...    ...\n",
              "195   56   F     LOW        HIGH   11.567  drugC\n",
              "196   16   M     LOW        HIGH   12.006  drugC\n",
              "197   52   M  NORMAL        HIGH    9.894  drugX\n",
              "198   23   M  NORMAL      NORMAL   14.020  drugX\n",
              "199   40   F     LOW      NORMAL   11.349  drugX\n",
              "\n",
              "[200 rows x 6 columns]"
            ],
            "text/html": [
              "\n",
              "  <div id=\"df-176976ba-b139-414c-b685-0dbd4a33cecc\">\n",
              "    <div class=\"colab-df-container\">\n",
              "      <div>\n",
              "<style scoped>\n",
              "    .dataframe tbody tr th:only-of-type {\n",
              "        vertical-align: middle;\n",
              "    }\n",
              "\n",
              "    .dataframe tbody tr th {\n",
              "        vertical-align: top;\n",
              "    }\n",
              "\n",
              "    .dataframe thead th {\n",
              "        text-align: right;\n",
              "    }\n",
              "</style>\n",
              "<table border=\"1\" class=\"dataframe\">\n",
              "  <thead>\n",
              "    <tr style=\"text-align: right;\">\n",
              "      <th></th>\n",
              "      <th>Age</th>\n",
              "      <th>Sex</th>\n",
              "      <th>BP</th>\n",
              "      <th>Cholesterol</th>\n",
              "      <th>Na_to_K</th>\n",
              "      <th>Drug</th>\n",
              "    </tr>\n",
              "  </thead>\n",
              "  <tbody>\n",
              "    <tr>\n",
              "      <th>0</th>\n",
              "      <td>23</td>\n",
              "      <td>F</td>\n",
              "      <td>HIGH</td>\n",
              "      <td>HIGH</td>\n",
              "      <td>25.355</td>\n",
              "      <td>DrugY</td>\n",
              "    </tr>\n",
              "    <tr>\n",
              "      <th>1</th>\n",
              "      <td>47</td>\n",
              "      <td>M</td>\n",
              "      <td>LOW</td>\n",
              "      <td>HIGH</td>\n",
              "      <td>13.093</td>\n",
              "      <td>drugC</td>\n",
              "    </tr>\n",
              "    <tr>\n",
              "      <th>2</th>\n",
              "      <td>47</td>\n",
              "      <td>M</td>\n",
              "      <td>LOW</td>\n",
              "      <td>HIGH</td>\n",
              "      <td>10.114</td>\n",
              "      <td>drugC</td>\n",
              "    </tr>\n",
              "    <tr>\n",
              "      <th>3</th>\n",
              "      <td>28</td>\n",
              "      <td>F</td>\n",
              "      <td>NORMAL</td>\n",
              "      <td>HIGH</td>\n",
              "      <td>7.798</td>\n",
              "      <td>drugX</td>\n",
              "    </tr>\n",
              "    <tr>\n",
              "      <th>4</th>\n",
              "      <td>61</td>\n",
              "      <td>F</td>\n",
              "      <td>LOW</td>\n",
              "      <td>HIGH</td>\n",
              "      <td>18.043</td>\n",
              "      <td>DrugY</td>\n",
              "    </tr>\n",
              "    <tr>\n",
              "      <th>...</th>\n",
              "      <td>...</td>\n",
              "      <td>...</td>\n",
              "      <td>...</td>\n",
              "      <td>...</td>\n",
              "      <td>...</td>\n",
              "      <td>...</td>\n",
              "    </tr>\n",
              "    <tr>\n",
              "      <th>195</th>\n",
              "      <td>56</td>\n",
              "      <td>F</td>\n",
              "      <td>LOW</td>\n",
              "      <td>HIGH</td>\n",
              "      <td>11.567</td>\n",
              "      <td>drugC</td>\n",
              "    </tr>\n",
              "    <tr>\n",
              "      <th>196</th>\n",
              "      <td>16</td>\n",
              "      <td>M</td>\n",
              "      <td>LOW</td>\n",
              "      <td>HIGH</td>\n",
              "      <td>12.006</td>\n",
              "      <td>drugC</td>\n",
              "    </tr>\n",
              "    <tr>\n",
              "      <th>197</th>\n",
              "      <td>52</td>\n",
              "      <td>M</td>\n",
              "      <td>NORMAL</td>\n",
              "      <td>HIGH</td>\n",
              "      <td>9.894</td>\n",
              "      <td>drugX</td>\n",
              "    </tr>\n",
              "    <tr>\n",
              "      <th>198</th>\n",
              "      <td>23</td>\n",
              "      <td>M</td>\n",
              "      <td>NORMAL</td>\n",
              "      <td>NORMAL</td>\n",
              "      <td>14.020</td>\n",
              "      <td>drugX</td>\n",
              "    </tr>\n",
              "    <tr>\n",
              "      <th>199</th>\n",
              "      <td>40</td>\n",
              "      <td>F</td>\n",
              "      <td>LOW</td>\n",
              "      <td>NORMAL</td>\n",
              "      <td>11.349</td>\n",
              "      <td>drugX</td>\n",
              "    </tr>\n",
              "  </tbody>\n",
              "</table>\n",
              "<p>200 rows × 6 columns</p>\n",
              "</div>\n",
              "      <button class=\"colab-df-convert\" onclick=\"convertToInteractive('df-176976ba-b139-414c-b685-0dbd4a33cecc')\"\n",
              "              title=\"Convert this dataframe to an interactive table.\"\n",
              "              style=\"display:none;\">\n",
              "        \n",
              "  <svg xmlns=\"http://www.w3.org/2000/svg\" height=\"24px\"viewBox=\"0 0 24 24\"\n",
              "       width=\"24px\">\n",
              "    <path d=\"M0 0h24v24H0V0z\" fill=\"none\"/>\n",
              "    <path d=\"M18.56 5.44l.94 2.06.94-2.06 2.06-.94-2.06-.94-.94-2.06-.94 2.06-2.06.94zm-11 1L8.5 8.5l.94-2.06 2.06-.94-2.06-.94L8.5 2.5l-.94 2.06-2.06.94zm10 10l.94 2.06.94-2.06 2.06-.94-2.06-.94-.94-2.06-.94 2.06-2.06.94z\"/><path d=\"M17.41 7.96l-1.37-1.37c-.4-.4-.92-.59-1.43-.59-.52 0-1.04.2-1.43.59L10.3 9.45l-7.72 7.72c-.78.78-.78 2.05 0 2.83L4 21.41c.39.39.9.59 1.41.59.51 0 1.02-.2 1.41-.59l7.78-7.78 2.81-2.81c.8-.78.8-2.07 0-2.86zM5.41 20L4 18.59l7.72-7.72 1.47 1.35L5.41 20z\"/>\n",
              "  </svg>\n",
              "      </button>\n",
              "      \n",
              "  <style>\n",
              "    .colab-df-container {\n",
              "      display:flex;\n",
              "      flex-wrap:wrap;\n",
              "      gap: 12px;\n",
              "    }\n",
              "\n",
              "    .colab-df-convert {\n",
              "      background-color: #E8F0FE;\n",
              "      border: none;\n",
              "      border-radius: 50%;\n",
              "      cursor: pointer;\n",
              "      display: none;\n",
              "      fill: #1967D2;\n",
              "      height: 32px;\n",
              "      padding: 0 0 0 0;\n",
              "      width: 32px;\n",
              "    }\n",
              "\n",
              "    .colab-df-convert:hover {\n",
              "      background-color: #E2EBFA;\n",
              "      box-shadow: 0px 1px 2px rgba(60, 64, 67, 0.3), 0px 1px 3px 1px rgba(60, 64, 67, 0.15);\n",
              "      fill: #174EA6;\n",
              "    }\n",
              "\n",
              "    [theme=dark] .colab-df-convert {\n",
              "      background-color: #3B4455;\n",
              "      fill: #D2E3FC;\n",
              "    }\n",
              "\n",
              "    [theme=dark] .colab-df-convert:hover {\n",
              "      background-color: #434B5C;\n",
              "      box-shadow: 0px 1px 3px 1px rgba(0, 0, 0, 0.15);\n",
              "      filter: drop-shadow(0px 1px 2px rgba(0, 0, 0, 0.3));\n",
              "      fill: #FFFFFF;\n",
              "    }\n",
              "  </style>\n",
              "\n",
              "      <script>\n",
              "        const buttonEl =\n",
              "          document.querySelector('#df-176976ba-b139-414c-b685-0dbd4a33cecc button.colab-df-convert');\n",
              "        buttonEl.style.display =\n",
              "          google.colab.kernel.accessAllowed ? 'block' : 'none';\n",
              "\n",
              "        async function convertToInteractive(key) {\n",
              "          const element = document.querySelector('#df-176976ba-b139-414c-b685-0dbd4a33cecc');\n",
              "          const dataTable =\n",
              "            await google.colab.kernel.invokeFunction('convertToInteractive',\n",
              "                                                     [key], {});\n",
              "          if (!dataTable) return;\n",
              "\n",
              "          const docLinkHtml = 'Like what you see? Visit the ' +\n",
              "            '<a target=\"_blank\" href=https://colab.research.google.com/notebooks/data_table.ipynb>data table notebook</a>'\n",
              "            + ' to learn more about interactive tables.';\n",
              "          element.innerHTML = '';\n",
              "          dataTable['output_type'] = 'display_data';\n",
              "          await google.colab.output.renderOutput(dataTable, element);\n",
              "          const docLink = document.createElement('div');\n",
              "          docLink.innerHTML = docLinkHtml;\n",
              "          element.appendChild(docLink);\n",
              "        }\n",
              "      </script>\n",
              "    </div>\n",
              "  </div>\n",
              "  "
            ]
          },
          "metadata": {},
          "execution_count": 505
        }
      ]
    },
    {
      "cell_type": "markdown",
      "source": [
        "##Pre-Processing"
      ],
      "metadata": {
        "id": "-Dzek92Oga2H"
      }
    },
    {
      "cell_type": "code",
      "source": [
        "df.head()"
      ],
      "metadata": {
        "colab": {
          "base_uri": "https://localhost:8080/"
        },
        "id": "_ti_1ZQ3JQlp",
        "outputId": "79c73742-260f-4066-97b9-a31b37d11ccf"
      },
      "execution_count": null,
      "outputs": [
        {
          "output_type": "execute_result",
          "data": {
            "text/plain": [
              "   Age Sex      BP Cholesterol  Na_to_K   Drug\n",
              "0   23   F    HIGH        HIGH   25.355  DrugY\n",
              "1   47   M     LOW        HIGH   13.093  drugC\n",
              "2   47   M     LOW        HIGH   10.114  drugC\n",
              "3   28   F  NORMAL        HIGH    7.798  drugX\n",
              "4   61   F     LOW        HIGH   18.043  DrugY"
            ],
            "text/html": [
              "\n",
              "  <div id=\"df-1b98e894-54c4-4f8e-8748-c602e78eb97c\">\n",
              "    <div class=\"colab-df-container\">\n",
              "      <div>\n",
              "<style scoped>\n",
              "    .dataframe tbody tr th:only-of-type {\n",
              "        vertical-align: middle;\n",
              "    }\n",
              "\n",
              "    .dataframe tbody tr th {\n",
              "        vertical-align: top;\n",
              "    }\n",
              "\n",
              "    .dataframe thead th {\n",
              "        text-align: right;\n",
              "    }\n",
              "</style>\n",
              "<table border=\"1\" class=\"dataframe\">\n",
              "  <thead>\n",
              "    <tr style=\"text-align: right;\">\n",
              "      <th></th>\n",
              "      <th>Age</th>\n",
              "      <th>Sex</th>\n",
              "      <th>BP</th>\n",
              "      <th>Cholesterol</th>\n",
              "      <th>Na_to_K</th>\n",
              "      <th>Drug</th>\n",
              "    </tr>\n",
              "  </thead>\n",
              "  <tbody>\n",
              "    <tr>\n",
              "      <th>0</th>\n",
              "      <td>23</td>\n",
              "      <td>F</td>\n",
              "      <td>HIGH</td>\n",
              "      <td>HIGH</td>\n",
              "      <td>25.355</td>\n",
              "      <td>DrugY</td>\n",
              "    </tr>\n",
              "    <tr>\n",
              "      <th>1</th>\n",
              "      <td>47</td>\n",
              "      <td>M</td>\n",
              "      <td>LOW</td>\n",
              "      <td>HIGH</td>\n",
              "      <td>13.093</td>\n",
              "      <td>drugC</td>\n",
              "    </tr>\n",
              "    <tr>\n",
              "      <th>2</th>\n",
              "      <td>47</td>\n",
              "      <td>M</td>\n",
              "      <td>LOW</td>\n",
              "      <td>HIGH</td>\n",
              "      <td>10.114</td>\n",
              "      <td>drugC</td>\n",
              "    </tr>\n",
              "    <tr>\n",
              "      <th>3</th>\n",
              "      <td>28</td>\n",
              "      <td>F</td>\n",
              "      <td>NORMAL</td>\n",
              "      <td>HIGH</td>\n",
              "      <td>7.798</td>\n",
              "      <td>drugX</td>\n",
              "    </tr>\n",
              "    <tr>\n",
              "      <th>4</th>\n",
              "      <td>61</td>\n",
              "      <td>F</td>\n",
              "      <td>LOW</td>\n",
              "      <td>HIGH</td>\n",
              "      <td>18.043</td>\n",
              "      <td>DrugY</td>\n",
              "    </tr>\n",
              "  </tbody>\n",
              "</table>\n",
              "</div>\n",
              "      <button class=\"colab-df-convert\" onclick=\"convertToInteractive('df-1b98e894-54c4-4f8e-8748-c602e78eb97c')\"\n",
              "              title=\"Convert this dataframe to an interactive table.\"\n",
              "              style=\"display:none;\">\n",
              "        \n",
              "  <svg xmlns=\"http://www.w3.org/2000/svg\" height=\"24px\"viewBox=\"0 0 24 24\"\n",
              "       width=\"24px\">\n",
              "    <path d=\"M0 0h24v24H0V0z\" fill=\"none\"/>\n",
              "    <path d=\"M18.56 5.44l.94 2.06.94-2.06 2.06-.94-2.06-.94-.94-2.06-.94 2.06-2.06.94zm-11 1L8.5 8.5l.94-2.06 2.06-.94-2.06-.94L8.5 2.5l-.94 2.06-2.06.94zm10 10l.94 2.06.94-2.06 2.06-.94-2.06-.94-.94-2.06-.94 2.06-2.06.94z\"/><path d=\"M17.41 7.96l-1.37-1.37c-.4-.4-.92-.59-1.43-.59-.52 0-1.04.2-1.43.59L10.3 9.45l-7.72 7.72c-.78.78-.78 2.05 0 2.83L4 21.41c.39.39.9.59 1.41.59.51 0 1.02-.2 1.41-.59l7.78-7.78 2.81-2.81c.8-.78.8-2.07 0-2.86zM5.41 20L4 18.59l7.72-7.72 1.47 1.35L5.41 20z\"/>\n",
              "  </svg>\n",
              "      </button>\n",
              "      \n",
              "  <style>\n",
              "    .colab-df-container {\n",
              "      display:flex;\n",
              "      flex-wrap:wrap;\n",
              "      gap: 12px;\n",
              "    }\n",
              "\n",
              "    .colab-df-convert {\n",
              "      background-color: #E8F0FE;\n",
              "      border: none;\n",
              "      border-radius: 50%;\n",
              "      cursor: pointer;\n",
              "      display: none;\n",
              "      fill: #1967D2;\n",
              "      height: 32px;\n",
              "      padding: 0 0 0 0;\n",
              "      width: 32px;\n",
              "    }\n",
              "\n",
              "    .colab-df-convert:hover {\n",
              "      background-color: #E2EBFA;\n",
              "      box-shadow: 0px 1px 2px rgba(60, 64, 67, 0.3), 0px 1px 3px 1px rgba(60, 64, 67, 0.15);\n",
              "      fill: #174EA6;\n",
              "    }\n",
              "\n",
              "    [theme=dark] .colab-df-convert {\n",
              "      background-color: #3B4455;\n",
              "      fill: #D2E3FC;\n",
              "    }\n",
              "\n",
              "    [theme=dark] .colab-df-convert:hover {\n",
              "      background-color: #434B5C;\n",
              "      box-shadow: 0px 1px 3px 1px rgba(0, 0, 0, 0.15);\n",
              "      filter: drop-shadow(0px 1px 2px rgba(0, 0, 0, 0.3));\n",
              "      fill: #FFFFFF;\n",
              "    }\n",
              "  </style>\n",
              "\n",
              "      <script>\n",
              "        const buttonEl =\n",
              "          document.querySelector('#df-1b98e894-54c4-4f8e-8748-c602e78eb97c button.colab-df-convert');\n",
              "        buttonEl.style.display =\n",
              "          google.colab.kernel.accessAllowed ? 'block' : 'none';\n",
              "\n",
              "        async function convertToInteractive(key) {\n",
              "          const element = document.querySelector('#df-1b98e894-54c4-4f8e-8748-c602e78eb97c');\n",
              "          const dataTable =\n",
              "            await google.colab.kernel.invokeFunction('convertToInteractive',\n",
              "                                                     [key], {});\n",
              "          if (!dataTable) return;\n",
              "\n",
              "          const docLinkHtml = 'Like what you see? Visit the ' +\n",
              "            '<a target=\"_blank\" href=https://colab.research.google.com/notebooks/data_table.ipynb>data table notebook</a>'\n",
              "            + ' to learn more about interactive tables.';\n",
              "          element.innerHTML = '';\n",
              "          dataTable['output_type'] = 'display_data';\n",
              "          await google.colab.output.renderOutput(dataTable, element);\n",
              "          const docLink = document.createElement('div');\n",
              "          docLink.innerHTML = docLinkHtml;\n",
              "          element.appendChild(docLink);\n",
              "        }\n",
              "      </script>\n",
              "    </div>\n",
              "  </div>\n",
              "  "
            ]
          },
          "metadata": {},
          "execution_count": 506
        }
      ]
    },
    {
      "cell_type": "code",
      "source": [
        "df.tail()"
      ],
      "metadata": {
        "colab": {
          "base_uri": "https://localhost:8080/"
        },
        "id": "WYk4-TsYJT03",
        "outputId": "07fd6292-c827-4394-ee86-9f1ce6ff3db7"
      },
      "execution_count": null,
      "outputs": [
        {
          "output_type": "execute_result",
          "data": {
            "text/plain": [
              "     Age Sex      BP Cholesterol  Na_to_K   Drug\n",
              "195   56   F     LOW        HIGH   11.567  drugC\n",
              "196   16   M     LOW        HIGH   12.006  drugC\n",
              "197   52   M  NORMAL        HIGH    9.894  drugX\n",
              "198   23   M  NORMAL      NORMAL   14.020  drugX\n",
              "199   40   F     LOW      NORMAL   11.349  drugX"
            ],
            "text/html": [
              "\n",
              "  <div id=\"df-eb8e4238-c016-47c8-8700-6b897509b386\">\n",
              "    <div class=\"colab-df-container\">\n",
              "      <div>\n",
              "<style scoped>\n",
              "    .dataframe tbody tr th:only-of-type {\n",
              "        vertical-align: middle;\n",
              "    }\n",
              "\n",
              "    .dataframe tbody tr th {\n",
              "        vertical-align: top;\n",
              "    }\n",
              "\n",
              "    .dataframe thead th {\n",
              "        text-align: right;\n",
              "    }\n",
              "</style>\n",
              "<table border=\"1\" class=\"dataframe\">\n",
              "  <thead>\n",
              "    <tr style=\"text-align: right;\">\n",
              "      <th></th>\n",
              "      <th>Age</th>\n",
              "      <th>Sex</th>\n",
              "      <th>BP</th>\n",
              "      <th>Cholesterol</th>\n",
              "      <th>Na_to_K</th>\n",
              "      <th>Drug</th>\n",
              "    </tr>\n",
              "  </thead>\n",
              "  <tbody>\n",
              "    <tr>\n",
              "      <th>195</th>\n",
              "      <td>56</td>\n",
              "      <td>F</td>\n",
              "      <td>LOW</td>\n",
              "      <td>HIGH</td>\n",
              "      <td>11.567</td>\n",
              "      <td>drugC</td>\n",
              "    </tr>\n",
              "    <tr>\n",
              "      <th>196</th>\n",
              "      <td>16</td>\n",
              "      <td>M</td>\n",
              "      <td>LOW</td>\n",
              "      <td>HIGH</td>\n",
              "      <td>12.006</td>\n",
              "      <td>drugC</td>\n",
              "    </tr>\n",
              "    <tr>\n",
              "      <th>197</th>\n",
              "      <td>52</td>\n",
              "      <td>M</td>\n",
              "      <td>NORMAL</td>\n",
              "      <td>HIGH</td>\n",
              "      <td>9.894</td>\n",
              "      <td>drugX</td>\n",
              "    </tr>\n",
              "    <tr>\n",
              "      <th>198</th>\n",
              "      <td>23</td>\n",
              "      <td>M</td>\n",
              "      <td>NORMAL</td>\n",
              "      <td>NORMAL</td>\n",
              "      <td>14.020</td>\n",
              "      <td>drugX</td>\n",
              "    </tr>\n",
              "    <tr>\n",
              "      <th>199</th>\n",
              "      <td>40</td>\n",
              "      <td>F</td>\n",
              "      <td>LOW</td>\n",
              "      <td>NORMAL</td>\n",
              "      <td>11.349</td>\n",
              "      <td>drugX</td>\n",
              "    </tr>\n",
              "  </tbody>\n",
              "</table>\n",
              "</div>\n",
              "      <button class=\"colab-df-convert\" onclick=\"convertToInteractive('df-eb8e4238-c016-47c8-8700-6b897509b386')\"\n",
              "              title=\"Convert this dataframe to an interactive table.\"\n",
              "              style=\"display:none;\">\n",
              "        \n",
              "  <svg xmlns=\"http://www.w3.org/2000/svg\" height=\"24px\"viewBox=\"0 0 24 24\"\n",
              "       width=\"24px\">\n",
              "    <path d=\"M0 0h24v24H0V0z\" fill=\"none\"/>\n",
              "    <path d=\"M18.56 5.44l.94 2.06.94-2.06 2.06-.94-2.06-.94-.94-2.06-.94 2.06-2.06.94zm-11 1L8.5 8.5l.94-2.06 2.06-.94-2.06-.94L8.5 2.5l-.94 2.06-2.06.94zm10 10l.94 2.06.94-2.06 2.06-.94-2.06-.94-.94-2.06-.94 2.06-2.06.94z\"/><path d=\"M17.41 7.96l-1.37-1.37c-.4-.4-.92-.59-1.43-.59-.52 0-1.04.2-1.43.59L10.3 9.45l-7.72 7.72c-.78.78-.78 2.05 0 2.83L4 21.41c.39.39.9.59 1.41.59.51 0 1.02-.2 1.41-.59l7.78-7.78 2.81-2.81c.8-.78.8-2.07 0-2.86zM5.41 20L4 18.59l7.72-7.72 1.47 1.35L5.41 20z\"/>\n",
              "  </svg>\n",
              "      </button>\n",
              "      \n",
              "  <style>\n",
              "    .colab-df-container {\n",
              "      display:flex;\n",
              "      flex-wrap:wrap;\n",
              "      gap: 12px;\n",
              "    }\n",
              "\n",
              "    .colab-df-convert {\n",
              "      background-color: #E8F0FE;\n",
              "      border: none;\n",
              "      border-radius: 50%;\n",
              "      cursor: pointer;\n",
              "      display: none;\n",
              "      fill: #1967D2;\n",
              "      height: 32px;\n",
              "      padding: 0 0 0 0;\n",
              "      width: 32px;\n",
              "    }\n",
              "\n",
              "    .colab-df-convert:hover {\n",
              "      background-color: #E2EBFA;\n",
              "      box-shadow: 0px 1px 2px rgba(60, 64, 67, 0.3), 0px 1px 3px 1px rgba(60, 64, 67, 0.15);\n",
              "      fill: #174EA6;\n",
              "    }\n",
              "\n",
              "    [theme=dark] .colab-df-convert {\n",
              "      background-color: #3B4455;\n",
              "      fill: #D2E3FC;\n",
              "    }\n",
              "\n",
              "    [theme=dark] .colab-df-convert:hover {\n",
              "      background-color: #434B5C;\n",
              "      box-shadow: 0px 1px 3px 1px rgba(0, 0, 0, 0.15);\n",
              "      filter: drop-shadow(0px 1px 2px rgba(0, 0, 0, 0.3));\n",
              "      fill: #FFFFFF;\n",
              "    }\n",
              "  </style>\n",
              "\n",
              "      <script>\n",
              "        const buttonEl =\n",
              "          document.querySelector('#df-eb8e4238-c016-47c8-8700-6b897509b386 button.colab-df-convert');\n",
              "        buttonEl.style.display =\n",
              "          google.colab.kernel.accessAllowed ? 'block' : 'none';\n",
              "\n",
              "        async function convertToInteractive(key) {\n",
              "          const element = document.querySelector('#df-eb8e4238-c016-47c8-8700-6b897509b386');\n",
              "          const dataTable =\n",
              "            await google.colab.kernel.invokeFunction('convertToInteractive',\n",
              "                                                     [key], {});\n",
              "          if (!dataTable) return;\n",
              "\n",
              "          const docLinkHtml = 'Like what you see? Visit the ' +\n",
              "            '<a target=\"_blank\" href=https://colab.research.google.com/notebooks/data_table.ipynb>data table notebook</a>'\n",
              "            + ' to learn more about interactive tables.';\n",
              "          element.innerHTML = '';\n",
              "          dataTable['output_type'] = 'display_data';\n",
              "          await google.colab.output.renderOutput(dataTable, element);\n",
              "          const docLink = document.createElement('div');\n",
              "          docLink.innerHTML = docLinkHtml;\n",
              "          element.appendChild(docLink);\n",
              "        }\n",
              "      </script>\n",
              "    </div>\n",
              "  </div>\n",
              "  "
            ]
          },
          "metadata": {},
          "execution_count": 507
        }
      ]
    },
    {
      "cell_type": "code",
      "source": [
        "df.shape"
      ],
      "metadata": {
        "colab": {
          "base_uri": "https://localhost:8080/"
        },
        "id": "HoiMVHdzJyou",
        "outputId": "5dd15135-311a-4590-e419-b8810cc2e89e"
      },
      "execution_count": null,
      "outputs": [
        {
          "output_type": "execute_result",
          "data": {
            "text/plain": [
              "(200, 6)"
            ]
          },
          "metadata": {},
          "execution_count": 508
        }
      ]
    },
    {
      "cell_type": "code",
      "source": [
        "df.info()"
      ],
      "metadata": {
        "colab": {
          "base_uri": "https://localhost:8080/"
        },
        "id": "sN7bK17BKKgF",
        "outputId": "8f64635c-6b12-4ce7-fa4c-461c109cec74"
      },
      "execution_count": null,
      "outputs": [
        {
          "output_type": "stream",
          "name": "stdout",
          "text": [
            "<class 'pandas.core.frame.DataFrame'>\n",
            "RangeIndex: 200 entries, 0 to 199\n",
            "Data columns (total 6 columns):\n",
            " #   Column       Non-Null Count  Dtype  \n",
            "---  ------       --------------  -----  \n",
            " 0   Age          200 non-null    int64  \n",
            " 1   Sex          200 non-null    object \n",
            " 2   BP           200 non-null    object \n",
            " 3   Cholesterol  200 non-null    object \n",
            " 4   Na_to_K      200 non-null    float64\n",
            " 5   Drug         200 non-null    object \n",
            "dtypes: float64(1), int64(1), object(4)\n",
            "memory usage: 9.5+ KB\n"
          ]
        }
      ]
    },
    {
      "cell_type": "code",
      "source": [
        "df.isnull().any()"
      ],
      "metadata": {
        "colab": {
          "base_uri": "https://localhost:8080/"
        },
        "id": "IHZKtsNpLAjp",
        "outputId": "367fee74-2b6f-40a3-e800-6007bea52ad8"
      },
      "execution_count": null,
      "outputs": [
        {
          "output_type": "execute_result",
          "data": {
            "text/plain": [
              "Age            False\n",
              "Sex            False\n",
              "BP             False\n",
              "Cholesterol    False\n",
              "Na_to_K        False\n",
              "Drug           False\n",
              "dtype: bool"
            ]
          },
          "metadata": {},
          "execution_count": 510
        }
      ]
    },
    {
      "cell_type": "code",
      "source": [
        "df.isnull().sum()"
      ],
      "metadata": {
        "colab": {
          "base_uri": "https://localhost:8080/"
        },
        "id": "kJVQt-ohLUaV",
        "outputId": "89af6416-9b70-4d16-baaa-db4db1c7182e"
      },
      "execution_count": null,
      "outputs": [
        {
          "output_type": "execute_result",
          "data": {
            "text/plain": [
              "Age            0\n",
              "Sex            0\n",
              "BP             0\n",
              "Cholesterol    0\n",
              "Na_to_K        0\n",
              "Drug           0\n",
              "dtype: int64"
            ]
          },
          "metadata": {},
          "execution_count": 511
        }
      ]
    },
    {
      "cell_type": "code",
      "source": [
        "df.describe()"
      ],
      "metadata": {
        "colab": {
          "base_uri": "https://localhost:8080/"
        },
        "id": "lt_pVUerNSo2",
        "outputId": "9ab2eb6a-0666-4d73-c59a-15251f27ebdc"
      },
      "execution_count": null,
      "outputs": [
        {
          "output_type": "execute_result",
          "data": {
            "text/plain": [
              "              Age     Na_to_K\n",
              "count  200.000000  200.000000\n",
              "mean    44.315000   16.084485\n",
              "std     16.544315    7.223956\n",
              "min     15.000000    6.269000\n",
              "25%     31.000000   10.445500\n",
              "50%     45.000000   13.936500\n",
              "75%     58.000000   19.380000\n",
              "max     74.000000   38.247000"
            ],
            "text/html": [
              "\n",
              "  <div id=\"df-67c1eb97-0e5c-487f-8565-ec324e5b4090\">\n",
              "    <div class=\"colab-df-container\">\n",
              "      <div>\n",
              "<style scoped>\n",
              "    .dataframe tbody tr th:only-of-type {\n",
              "        vertical-align: middle;\n",
              "    }\n",
              "\n",
              "    .dataframe tbody tr th {\n",
              "        vertical-align: top;\n",
              "    }\n",
              "\n",
              "    .dataframe thead th {\n",
              "        text-align: right;\n",
              "    }\n",
              "</style>\n",
              "<table border=\"1\" class=\"dataframe\">\n",
              "  <thead>\n",
              "    <tr style=\"text-align: right;\">\n",
              "      <th></th>\n",
              "      <th>Age</th>\n",
              "      <th>Na_to_K</th>\n",
              "    </tr>\n",
              "  </thead>\n",
              "  <tbody>\n",
              "    <tr>\n",
              "      <th>count</th>\n",
              "      <td>200.000000</td>\n",
              "      <td>200.000000</td>\n",
              "    </tr>\n",
              "    <tr>\n",
              "      <th>mean</th>\n",
              "      <td>44.315000</td>\n",
              "      <td>16.084485</td>\n",
              "    </tr>\n",
              "    <tr>\n",
              "      <th>std</th>\n",
              "      <td>16.544315</td>\n",
              "      <td>7.223956</td>\n",
              "    </tr>\n",
              "    <tr>\n",
              "      <th>min</th>\n",
              "      <td>15.000000</td>\n",
              "      <td>6.269000</td>\n",
              "    </tr>\n",
              "    <tr>\n",
              "      <th>25%</th>\n",
              "      <td>31.000000</td>\n",
              "      <td>10.445500</td>\n",
              "    </tr>\n",
              "    <tr>\n",
              "      <th>50%</th>\n",
              "      <td>45.000000</td>\n",
              "      <td>13.936500</td>\n",
              "    </tr>\n",
              "    <tr>\n",
              "      <th>75%</th>\n",
              "      <td>58.000000</td>\n",
              "      <td>19.380000</td>\n",
              "    </tr>\n",
              "    <tr>\n",
              "      <th>max</th>\n",
              "      <td>74.000000</td>\n",
              "      <td>38.247000</td>\n",
              "    </tr>\n",
              "  </tbody>\n",
              "</table>\n",
              "</div>\n",
              "      <button class=\"colab-df-convert\" onclick=\"convertToInteractive('df-67c1eb97-0e5c-487f-8565-ec324e5b4090')\"\n",
              "              title=\"Convert this dataframe to an interactive table.\"\n",
              "              style=\"display:none;\">\n",
              "        \n",
              "  <svg xmlns=\"http://www.w3.org/2000/svg\" height=\"24px\"viewBox=\"0 0 24 24\"\n",
              "       width=\"24px\">\n",
              "    <path d=\"M0 0h24v24H0V0z\" fill=\"none\"/>\n",
              "    <path d=\"M18.56 5.44l.94 2.06.94-2.06 2.06-.94-2.06-.94-.94-2.06-.94 2.06-2.06.94zm-11 1L8.5 8.5l.94-2.06 2.06-.94-2.06-.94L8.5 2.5l-.94 2.06-2.06.94zm10 10l.94 2.06.94-2.06 2.06-.94-2.06-.94-.94-2.06-.94 2.06-2.06.94z\"/><path d=\"M17.41 7.96l-1.37-1.37c-.4-.4-.92-.59-1.43-.59-.52 0-1.04.2-1.43.59L10.3 9.45l-7.72 7.72c-.78.78-.78 2.05 0 2.83L4 21.41c.39.39.9.59 1.41.59.51 0 1.02-.2 1.41-.59l7.78-7.78 2.81-2.81c.8-.78.8-2.07 0-2.86zM5.41 20L4 18.59l7.72-7.72 1.47 1.35L5.41 20z\"/>\n",
              "  </svg>\n",
              "      </button>\n",
              "      \n",
              "  <style>\n",
              "    .colab-df-container {\n",
              "      display:flex;\n",
              "      flex-wrap:wrap;\n",
              "      gap: 12px;\n",
              "    }\n",
              "\n",
              "    .colab-df-convert {\n",
              "      background-color: #E8F0FE;\n",
              "      border: none;\n",
              "      border-radius: 50%;\n",
              "      cursor: pointer;\n",
              "      display: none;\n",
              "      fill: #1967D2;\n",
              "      height: 32px;\n",
              "      padding: 0 0 0 0;\n",
              "      width: 32px;\n",
              "    }\n",
              "\n",
              "    .colab-df-convert:hover {\n",
              "      background-color: #E2EBFA;\n",
              "      box-shadow: 0px 1px 2px rgba(60, 64, 67, 0.3), 0px 1px 3px 1px rgba(60, 64, 67, 0.15);\n",
              "      fill: #174EA6;\n",
              "    }\n",
              "\n",
              "    [theme=dark] .colab-df-convert {\n",
              "      background-color: #3B4455;\n",
              "      fill: #D2E3FC;\n",
              "    }\n",
              "\n",
              "    [theme=dark] .colab-df-convert:hover {\n",
              "      background-color: #434B5C;\n",
              "      box-shadow: 0px 1px 3px 1px rgba(0, 0, 0, 0.15);\n",
              "      filter: drop-shadow(0px 1px 2px rgba(0, 0, 0, 0.3));\n",
              "      fill: #FFFFFF;\n",
              "    }\n",
              "  </style>\n",
              "\n",
              "      <script>\n",
              "        const buttonEl =\n",
              "          document.querySelector('#df-67c1eb97-0e5c-487f-8565-ec324e5b4090 button.colab-df-convert');\n",
              "        buttonEl.style.display =\n",
              "          google.colab.kernel.accessAllowed ? 'block' : 'none';\n",
              "\n",
              "        async function convertToInteractive(key) {\n",
              "          const element = document.querySelector('#df-67c1eb97-0e5c-487f-8565-ec324e5b4090');\n",
              "          const dataTable =\n",
              "            await google.colab.kernel.invokeFunction('convertToInteractive',\n",
              "                                                     [key], {});\n",
              "          if (!dataTable) return;\n",
              "\n",
              "          const docLinkHtml = 'Like what you see? Visit the ' +\n",
              "            '<a target=\"_blank\" href=https://colab.research.google.com/notebooks/data_table.ipynb>data table notebook</a>'\n",
              "            + ' to learn more about interactive tables.';\n",
              "          element.innerHTML = '';\n",
              "          dataTable['output_type'] = 'display_data';\n",
              "          await google.colab.output.renderOutput(dataTable, element);\n",
              "          const docLink = document.createElement('div');\n",
              "          docLink.innerHTML = docLinkHtml;\n",
              "          element.appendChild(docLink);\n",
              "        }\n",
              "      </script>\n",
              "    </div>\n",
              "  </div>\n",
              "  "
            ]
          },
          "metadata": {},
          "execution_count": 512
        }
      ]
    },
    {
      "cell_type": "code",
      "source": [
        "df.Drug.unique()"
      ],
      "metadata": {
        "colab": {
          "base_uri": "https://localhost:8080/"
        },
        "id": "1pxlpd2_O9Ks",
        "outputId": "2f384012-6dd2-4b02-905a-8bfa7fd39efd"
      },
      "execution_count": null,
      "outputs": [
        {
          "output_type": "execute_result",
          "data": {
            "text/plain": [
              "array(['DrugY', 'drugC', 'drugX', 'drugA', 'drugB'], dtype=object)"
            ]
          },
          "metadata": {},
          "execution_count": 513
        }
      ]
    },
    {
      "cell_type": "code",
      "source": [
        "df.BP.unique()"
      ],
      "metadata": {
        "colab": {
          "base_uri": "https://localhost:8080/"
        },
        "id": "vhVvU2yZPOBX",
        "outputId": "8eb50ccb-8d31-47e0-9d37-f2826b53f185"
      },
      "execution_count": null,
      "outputs": [
        {
          "output_type": "execute_result",
          "data": {
            "text/plain": [
              "array(['HIGH', 'LOW', 'NORMAL'], dtype=object)"
            ]
          },
          "metadata": {},
          "execution_count": 514
        }
      ]
    },
    {
      "cell_type": "code",
      "source": [
        "df.BP.value_counts()"
      ],
      "metadata": {
        "colab": {
          "base_uri": "https://localhost:8080/"
        },
        "id": "zdZwCkGJPrjV",
        "outputId": "3d07ca71-4db1-4b54-c006-dfdb4efb5d33"
      },
      "execution_count": null,
      "outputs": [
        {
          "output_type": "execute_result",
          "data": {
            "text/plain": [
              "HIGH      77\n",
              "LOW       64\n",
              "NORMAL    59\n",
              "Name: BP, dtype: int64"
            ]
          },
          "metadata": {},
          "execution_count": 515
        }
      ]
    },
    {
      "cell_type": "code",
      "source": [
        "df.Drug.unique()"
      ],
      "metadata": {
        "colab": {
          "base_uri": "https://localhost:8080/"
        },
        "id": "ZFjEYJO8KBuh",
        "outputId": "f3c7082b-8001-4f30-e7fe-42491a3d2c70"
      },
      "execution_count": null,
      "outputs": [
        {
          "output_type": "execute_result",
          "data": {
            "text/plain": [
              "array(['DrugY', 'drugC', 'drugX', 'drugA', 'drugB'], dtype=object)"
            ]
          },
          "metadata": {},
          "execution_count": 516
        }
      ]
    },
    {
      "cell_type": "code",
      "source": [
        "df.Drug.value_counts()"
      ],
      "metadata": {
        "colab": {
          "base_uri": "https://localhost:8080/"
        },
        "id": "pKoJAJllJzS-",
        "outputId": "cf3b7eb4-27c0-4abb-a737-cac5785677d4"
      },
      "execution_count": null,
      "outputs": [
        {
          "output_type": "execute_result",
          "data": {
            "text/plain": [
              "DrugY    91\n",
              "drugX    54\n",
              "drugA    23\n",
              "drugC    16\n",
              "drugB    16\n",
              "Name: Drug, dtype: int64"
            ]
          },
          "metadata": {},
          "execution_count": 517
        }
      ]
    },
    {
      "cell_type": "code",
      "source": [
        "df.corr()"
      ],
      "metadata": {
        "colab": {
          "base_uri": "https://localhost:8080/"
        },
        "id": "A7rZAqYoQGdc",
        "outputId": "47b77f3b-692d-44b8-9872-dc04ef733694"
      },
      "execution_count": null,
      "outputs": [
        {
          "output_type": "stream",
          "name": "stderr",
          "text": [
            "<ipython-input-518-2f6f6606aa2c>:1: FutureWarning: The default value of numeric_only in DataFrame.corr is deprecated. In a future version, it will default to False. Select only valid columns or specify the value of numeric_only to silence this warning.\n",
            "  df.corr()\n"
          ]
        },
        {
          "output_type": "execute_result",
          "data": {
            "text/plain": [
              "              Age   Na_to_K\n",
              "Age      1.000000 -0.063119\n",
              "Na_to_K -0.063119  1.000000"
            ],
            "text/html": [
              "\n",
              "  <div id=\"df-eedcdff8-a61d-40f3-a269-62ef872d6cc4\">\n",
              "    <div class=\"colab-df-container\">\n",
              "      <div>\n",
              "<style scoped>\n",
              "    .dataframe tbody tr th:only-of-type {\n",
              "        vertical-align: middle;\n",
              "    }\n",
              "\n",
              "    .dataframe tbody tr th {\n",
              "        vertical-align: top;\n",
              "    }\n",
              "\n",
              "    .dataframe thead th {\n",
              "        text-align: right;\n",
              "    }\n",
              "</style>\n",
              "<table border=\"1\" class=\"dataframe\">\n",
              "  <thead>\n",
              "    <tr style=\"text-align: right;\">\n",
              "      <th></th>\n",
              "      <th>Age</th>\n",
              "      <th>Na_to_K</th>\n",
              "    </tr>\n",
              "  </thead>\n",
              "  <tbody>\n",
              "    <tr>\n",
              "      <th>Age</th>\n",
              "      <td>1.000000</td>\n",
              "      <td>-0.063119</td>\n",
              "    </tr>\n",
              "    <tr>\n",
              "      <th>Na_to_K</th>\n",
              "      <td>-0.063119</td>\n",
              "      <td>1.000000</td>\n",
              "    </tr>\n",
              "  </tbody>\n",
              "</table>\n",
              "</div>\n",
              "      <button class=\"colab-df-convert\" onclick=\"convertToInteractive('df-eedcdff8-a61d-40f3-a269-62ef872d6cc4')\"\n",
              "              title=\"Convert this dataframe to an interactive table.\"\n",
              "              style=\"display:none;\">\n",
              "        \n",
              "  <svg xmlns=\"http://www.w3.org/2000/svg\" height=\"24px\"viewBox=\"0 0 24 24\"\n",
              "       width=\"24px\">\n",
              "    <path d=\"M0 0h24v24H0V0z\" fill=\"none\"/>\n",
              "    <path d=\"M18.56 5.44l.94 2.06.94-2.06 2.06-.94-2.06-.94-.94-2.06-.94 2.06-2.06.94zm-11 1L8.5 8.5l.94-2.06 2.06-.94-2.06-.94L8.5 2.5l-.94 2.06-2.06.94zm10 10l.94 2.06.94-2.06 2.06-.94-2.06-.94-.94-2.06-.94 2.06-2.06.94z\"/><path d=\"M17.41 7.96l-1.37-1.37c-.4-.4-.92-.59-1.43-.59-.52 0-1.04.2-1.43.59L10.3 9.45l-7.72 7.72c-.78.78-.78 2.05 0 2.83L4 21.41c.39.39.9.59 1.41.59.51 0 1.02-.2 1.41-.59l7.78-7.78 2.81-2.81c.8-.78.8-2.07 0-2.86zM5.41 20L4 18.59l7.72-7.72 1.47 1.35L5.41 20z\"/>\n",
              "  </svg>\n",
              "      </button>\n",
              "      \n",
              "  <style>\n",
              "    .colab-df-container {\n",
              "      display:flex;\n",
              "      flex-wrap:wrap;\n",
              "      gap: 12px;\n",
              "    }\n",
              "\n",
              "    .colab-df-convert {\n",
              "      background-color: #E8F0FE;\n",
              "      border: none;\n",
              "      border-radius: 50%;\n",
              "      cursor: pointer;\n",
              "      display: none;\n",
              "      fill: #1967D2;\n",
              "      height: 32px;\n",
              "      padding: 0 0 0 0;\n",
              "      width: 32px;\n",
              "    }\n",
              "\n",
              "    .colab-df-convert:hover {\n",
              "      background-color: #E2EBFA;\n",
              "      box-shadow: 0px 1px 2px rgba(60, 64, 67, 0.3), 0px 1px 3px 1px rgba(60, 64, 67, 0.15);\n",
              "      fill: #174EA6;\n",
              "    }\n",
              "\n",
              "    [theme=dark] .colab-df-convert {\n",
              "      background-color: #3B4455;\n",
              "      fill: #D2E3FC;\n",
              "    }\n",
              "\n",
              "    [theme=dark] .colab-df-convert:hover {\n",
              "      background-color: #434B5C;\n",
              "      box-shadow: 0px 1px 3px 1px rgba(0, 0, 0, 0.15);\n",
              "      filter: drop-shadow(0px 1px 2px rgba(0, 0, 0, 0.3));\n",
              "      fill: #FFFFFF;\n",
              "    }\n",
              "  </style>\n",
              "\n",
              "      <script>\n",
              "        const buttonEl =\n",
              "          document.querySelector('#df-eedcdff8-a61d-40f3-a269-62ef872d6cc4 button.colab-df-convert');\n",
              "        buttonEl.style.display =\n",
              "          google.colab.kernel.accessAllowed ? 'block' : 'none';\n",
              "\n",
              "        async function convertToInteractive(key) {\n",
              "          const element = document.querySelector('#df-eedcdff8-a61d-40f3-a269-62ef872d6cc4');\n",
              "          const dataTable =\n",
              "            await google.colab.kernel.invokeFunction('convertToInteractive',\n",
              "                                                     [key], {});\n",
              "          if (!dataTable) return;\n",
              "\n",
              "          const docLinkHtml = 'Like what you see? Visit the ' +\n",
              "            '<a target=\"_blank\" href=https://colab.research.google.com/notebooks/data_table.ipynb>data table notebook</a>'\n",
              "            + ' to learn more about interactive tables.';\n",
              "          element.innerHTML = '';\n",
              "          dataTable['output_type'] = 'display_data';\n",
              "          await google.colab.output.renderOutput(dataTable, element);\n",
              "          const docLink = document.createElement('div');\n",
              "          docLink.innerHTML = docLinkHtml;\n",
              "          element.appendChild(docLink);\n",
              "        }\n",
              "      </script>\n",
              "    </div>\n",
              "  </div>\n",
              "  "
            ]
          },
          "metadata": {},
          "execution_count": 518
        }
      ]
    },
    {
      "cell_type": "markdown",
      "source": [
        "###Visualization\n",
        "\n"
      ],
      "metadata": {
        "id": "qNJFbu6JRFgJ"
      }
    },
    {
      "cell_type": "markdown",
      "source": [
        "####Univariate Analysis"
      ],
      "metadata": {
        "id": "yiGIfzZhRbzh"
      }
    },
    {
      "cell_type": "code",
      "source": [
        "df.head()"
      ],
      "metadata": {
        "colab": {
          "base_uri": "https://localhost:8080/"
        },
        "id": "N03tyeHLQbeT",
        "outputId": "70045164-52eb-4661-e661-8ab491605c1c"
      },
      "execution_count": null,
      "outputs": [
        {
          "output_type": "execute_result",
          "data": {
            "text/plain": [
              "   Age Sex      BP Cholesterol  Na_to_K   Drug\n",
              "0   23   F    HIGH        HIGH   25.355  DrugY\n",
              "1   47   M     LOW        HIGH   13.093  drugC\n",
              "2   47   M     LOW        HIGH   10.114  drugC\n",
              "3   28   F  NORMAL        HIGH    7.798  drugX\n",
              "4   61   F     LOW        HIGH   18.043  DrugY"
            ],
            "text/html": [
              "\n",
              "  <div id=\"df-1625691c-1b7d-4bfb-a378-8a7813d3fc44\">\n",
              "    <div class=\"colab-df-container\">\n",
              "      <div>\n",
              "<style scoped>\n",
              "    .dataframe tbody tr th:only-of-type {\n",
              "        vertical-align: middle;\n",
              "    }\n",
              "\n",
              "    .dataframe tbody tr th {\n",
              "        vertical-align: top;\n",
              "    }\n",
              "\n",
              "    .dataframe thead th {\n",
              "        text-align: right;\n",
              "    }\n",
              "</style>\n",
              "<table border=\"1\" class=\"dataframe\">\n",
              "  <thead>\n",
              "    <tr style=\"text-align: right;\">\n",
              "      <th></th>\n",
              "      <th>Age</th>\n",
              "      <th>Sex</th>\n",
              "      <th>BP</th>\n",
              "      <th>Cholesterol</th>\n",
              "      <th>Na_to_K</th>\n",
              "      <th>Drug</th>\n",
              "    </tr>\n",
              "  </thead>\n",
              "  <tbody>\n",
              "    <tr>\n",
              "      <th>0</th>\n",
              "      <td>23</td>\n",
              "      <td>F</td>\n",
              "      <td>HIGH</td>\n",
              "      <td>HIGH</td>\n",
              "      <td>25.355</td>\n",
              "      <td>DrugY</td>\n",
              "    </tr>\n",
              "    <tr>\n",
              "      <th>1</th>\n",
              "      <td>47</td>\n",
              "      <td>M</td>\n",
              "      <td>LOW</td>\n",
              "      <td>HIGH</td>\n",
              "      <td>13.093</td>\n",
              "      <td>drugC</td>\n",
              "    </tr>\n",
              "    <tr>\n",
              "      <th>2</th>\n",
              "      <td>47</td>\n",
              "      <td>M</td>\n",
              "      <td>LOW</td>\n",
              "      <td>HIGH</td>\n",
              "      <td>10.114</td>\n",
              "      <td>drugC</td>\n",
              "    </tr>\n",
              "    <tr>\n",
              "      <th>3</th>\n",
              "      <td>28</td>\n",
              "      <td>F</td>\n",
              "      <td>NORMAL</td>\n",
              "      <td>HIGH</td>\n",
              "      <td>7.798</td>\n",
              "      <td>drugX</td>\n",
              "    </tr>\n",
              "    <tr>\n",
              "      <th>4</th>\n",
              "      <td>61</td>\n",
              "      <td>F</td>\n",
              "      <td>LOW</td>\n",
              "      <td>HIGH</td>\n",
              "      <td>18.043</td>\n",
              "      <td>DrugY</td>\n",
              "    </tr>\n",
              "  </tbody>\n",
              "</table>\n",
              "</div>\n",
              "      <button class=\"colab-df-convert\" onclick=\"convertToInteractive('df-1625691c-1b7d-4bfb-a378-8a7813d3fc44')\"\n",
              "              title=\"Convert this dataframe to an interactive table.\"\n",
              "              style=\"display:none;\">\n",
              "        \n",
              "  <svg xmlns=\"http://www.w3.org/2000/svg\" height=\"24px\"viewBox=\"0 0 24 24\"\n",
              "       width=\"24px\">\n",
              "    <path d=\"M0 0h24v24H0V0z\" fill=\"none\"/>\n",
              "    <path d=\"M18.56 5.44l.94 2.06.94-2.06 2.06-.94-2.06-.94-.94-2.06-.94 2.06-2.06.94zm-11 1L8.5 8.5l.94-2.06 2.06-.94-2.06-.94L8.5 2.5l-.94 2.06-2.06.94zm10 10l.94 2.06.94-2.06 2.06-.94-2.06-.94-.94-2.06-.94 2.06-2.06.94z\"/><path d=\"M17.41 7.96l-1.37-1.37c-.4-.4-.92-.59-1.43-.59-.52 0-1.04.2-1.43.59L10.3 9.45l-7.72 7.72c-.78.78-.78 2.05 0 2.83L4 21.41c.39.39.9.59 1.41.59.51 0 1.02-.2 1.41-.59l7.78-7.78 2.81-2.81c.8-.78.8-2.07 0-2.86zM5.41 20L4 18.59l7.72-7.72 1.47 1.35L5.41 20z\"/>\n",
              "  </svg>\n",
              "      </button>\n",
              "      \n",
              "  <style>\n",
              "    .colab-df-container {\n",
              "      display:flex;\n",
              "      flex-wrap:wrap;\n",
              "      gap: 12px;\n",
              "    }\n",
              "\n",
              "    .colab-df-convert {\n",
              "      background-color: #E8F0FE;\n",
              "      border: none;\n",
              "      border-radius: 50%;\n",
              "      cursor: pointer;\n",
              "      display: none;\n",
              "      fill: #1967D2;\n",
              "      height: 32px;\n",
              "      padding: 0 0 0 0;\n",
              "      width: 32px;\n",
              "    }\n",
              "\n",
              "    .colab-df-convert:hover {\n",
              "      background-color: #E2EBFA;\n",
              "      box-shadow: 0px 1px 2px rgba(60, 64, 67, 0.3), 0px 1px 3px 1px rgba(60, 64, 67, 0.15);\n",
              "      fill: #174EA6;\n",
              "    }\n",
              "\n",
              "    [theme=dark] .colab-df-convert {\n",
              "      background-color: #3B4455;\n",
              "      fill: #D2E3FC;\n",
              "    }\n",
              "\n",
              "    [theme=dark] .colab-df-convert:hover {\n",
              "      background-color: #434B5C;\n",
              "      box-shadow: 0px 1px 3px 1px rgba(0, 0, 0, 0.15);\n",
              "      filter: drop-shadow(0px 1px 2px rgba(0, 0, 0, 0.3));\n",
              "      fill: #FFFFFF;\n",
              "    }\n",
              "  </style>\n",
              "\n",
              "      <script>\n",
              "        const buttonEl =\n",
              "          document.querySelector('#df-1625691c-1b7d-4bfb-a378-8a7813d3fc44 button.colab-df-convert');\n",
              "        buttonEl.style.display =\n",
              "          google.colab.kernel.accessAllowed ? 'block' : 'none';\n",
              "\n",
              "        async function convertToInteractive(key) {\n",
              "          const element = document.querySelector('#df-1625691c-1b7d-4bfb-a378-8a7813d3fc44');\n",
              "          const dataTable =\n",
              "            await google.colab.kernel.invokeFunction('convertToInteractive',\n",
              "                                                     [key], {});\n",
              "          if (!dataTable) return;\n",
              "\n",
              "          const docLinkHtml = 'Like what you see? Visit the ' +\n",
              "            '<a target=\"_blank\" href=https://colab.research.google.com/notebooks/data_table.ipynb>data table notebook</a>'\n",
              "            + ' to learn more about interactive tables.';\n",
              "          element.innerHTML = '';\n",
              "          dataTable['output_type'] = 'display_data';\n",
              "          await google.colab.output.renderOutput(dataTable, element);\n",
              "          const docLink = document.createElement('div');\n",
              "          docLink.innerHTML = docLinkHtml;\n",
              "          element.appendChild(docLink);\n",
              "        }\n",
              "      </script>\n",
              "    </div>\n",
              "  </div>\n",
              "  "
            ]
          },
          "metadata": {},
          "execution_count": 519
        }
      ]
    },
    {
      "cell_type": "code",
      "source": [
        "sns.distplot(df.Age)"
      ],
      "metadata": {
        "colab": {
          "base_uri": "https://localhost:8080/"
        },
        "id": "pI_Tbe_6Q5s-",
        "outputId": "b7646378-d404-4b92-e1c5-a4420c9aab71"
      },
      "execution_count": null,
      "outputs": [
        {
          "output_type": "stream",
          "name": "stderr",
          "text": [
            "<ipython-input-520-b2378c9d8a20>:1: UserWarning: \n",
            "\n",
            "`distplot` is a deprecated function and will be removed in seaborn v0.14.0.\n",
            "\n",
            "Please adapt your code to use either `displot` (a figure-level function with\n",
            "similar flexibility) or `histplot` (an axes-level function for histograms).\n",
            "\n",
            "For a guide to updating your code to use the new functions, please see\n",
            "https://gist.github.com/mwaskom/de44147ed2974457ad6372750bbe5751\n",
            "\n",
            "  sns.distplot(df.Age)\n"
          ]
        },
        {
          "output_type": "execute_result",
          "data": {
            "text/plain": [
              "<Axes: xlabel='Age', ylabel='Density'>"
            ]
          },
          "metadata": {},
          "execution_count": 520
        },
        {
          "output_type": "display_data",
          "data": {
            "text/plain": [
              "<Figure size 640x480 with 1 Axes>"
            ],
            "image/png": "[encoded data removed]"
          },
          "metadata": {}
        }
      ]
    },
    {
      "cell_type": "code",
      "source": [
        "sns.distplot(df.Na_to_K)"
      ],
      "metadata": {
        "colab": {
          "base_uri": "https://localhost:8080/"
        },
        "id": "Bzi4ILWSSIYK",
        "outputId": "a7ba602a-38c9-4895-8205-7f944449f232"
      },
      "execution_count": null,
      "outputs": [
        {
          "output_type": "stream",
          "name": "stderr",
          "text": [
            "<ipython-input-521-fda53b94c691>:1: UserWarning: \n",
            "\n",
            "`distplot` is a deprecated function and will be removed in seaborn v0.14.0.\n",
            "\n",
            "Please adapt your code to use either `displot` (a figure-level function with\n",
            "similar flexibility) or `histplot` (an axes-level function for histograms).\n",
            "\n",
            "For a guide to updating your code to use the new functions, please see\n",
            "https://gist.github.com/mwaskom/de44147ed2974457ad6372750bbe5751\n",
            "\n",
            "  sns.distplot(df.Na_to_K)\n"
          ]
        },
        {
          "output_type": "execute_result",
          "data": {
            "text/plain": [
              "<Axes: xlabel='Na_to_K', ylabel='Density'>"
            ]
          },
          "metadata": {},
          "execution_count": 521
        },
        {
          "output_type": "display_data",
          "data": {
            "text/plain": [
              "<Figure size 640x480 with 1 Axes>"
            ],
            "image/png": "[encoded data removed]"
          },
          "metadata": {}
        }
      ]
    },
    {
      "cell_type": "code",
      "source": [
        "plt.pie(df.Sex.value_counts(),[0.05,0],labels=[\"Male\",\"Female\"],autopct = \"%1.1f%%\",shadow=True)\n",
        "plt.title(\"Gender Distribution\")\n",
        "plt.show"
      ],
      "metadata": {
        "colab": {
          "base_uri": "https://localhost:8080/"
        },
        "id": "TEiV_Ta-SmMg",
        "outputId": "355c1fa0-0ead-4804-b8ea-fed21379ea27"
      },
      "execution_count": null,
      "outputs": [
        {
          "output_type": "execute_result",
          "data": {
            "text/plain": [
              "<function matplotlib.pyplot.show(close=None, block=None)>"
            ]
          },
          "metadata": {},
          "execution_count": 522
        },
        {
          "output_type": "display_data",
          "data": {
            "text/plain": [
              "<Figure size 640x480 with 1 Axes>"
            ],
            "image/png": "[encoded data removed]"
          },
          "metadata": {}
        }
      ]
    },
    {
      "cell_type": "code",
      "source": [
        "sns.barplot(x=df.Drug.value_counts().index,y=df.Drug.value_counts()) "
      ],
      "metadata": {
        "colab": {
          "base_uri": "https://localhost:8080/"
        },
        "id": "Rf1UCNiQUq-m",
        "outputId": "c20207df-bacd-4ea8-abd2-7a67155ebfb2"
      },
      "execution_count": null,
      "outputs": [
        {
          "output_type": "execute_result",
          "data": {
            "text/plain": [
              "<Axes: ylabel='Drug'>"
            ]
          },
          "metadata": {},
          "execution_count": 523
        },
        {
          "output_type": "display_data",
          "data": {
            "text/plain": [
              "<Figure size 640x480 with 1 Axes>"
            ],
            "image/png": "[encoded data removed]"
          },
          "metadata": {}
        }
      ]
    },
    {
      "cell_type": "markdown",
      "source": [
        "####Bivariate Analysis\n"
      ],
      "metadata": {
        "id": "YLoGChgOVahj"
      }
    },
    {
      "cell_type": "code",
      "source": [
        "sns.lineplot(x=df.Age,y=df.Na_to_K)"
      ],
      "metadata": {
        "colab": {
          "base_uri": "https://localhost:8080/"
        },
        "id": "L8eroiq9VgH7",
        "outputId": "2d0877d8-f5d4-4410-ee91-b95a1217bd12"
      },
      "execution_count": null,
      "outputs": [
        {
          "output_type": "execute_result",
          "data": {
            "text/plain": [
              "<Axes: xlabel='Age', ylabel='Na_to_K'>"
            ]
          },
          "metadata": {},
          "execution_count": 524
        },
        {
          "output_type": "display_data",
          "data": {
            "text/plain": [
              "<Figure size 640x480 with 1 Axes>"
            ],
            "image/png": "[encoded data removed]"
          },
          "metadata": {}
        }
      ]
    },
    {
      "cell_type": "code",
      "source": [
        "sns.scatterplot(x=df.Age,y=df.Na_to_K)"
      ],
      "metadata": {
        "colab": {
          "base_uri": "https://localhost:8080/"
        },
        "id": "zAGW9ag0WAzn",
        "outputId": "94f2007d-7a19-40ff-f3ed-2de42ccc951a"
      },
      "execution_count": null,
      "outputs": [
        {
          "output_type": "execute_result",
          "data": {
            "text/plain": [
              "<Axes: xlabel='Age', ylabel='Na_to_K'>"
            ]
          },
          "metadata": {},
          "execution_count": 525
        },
        {
          "output_type": "display_data",
          "data": {
            "text/plain": [
              "<Figure size 640x480 with 1 Axes>"
            ],
            "image/png": "[encoded data removed]"
          },
          "metadata": {}
        }
      ]
    },
    {
      "cell_type": "markdown",
      "source": [
        "####Multivariate Analysis"
      ],
      "metadata": {
        "id": "OWUvPLgAWXRV"
      }
    },
    {
      "cell_type": "code",
      "source": [
        "sns.pairplot(df)"
      ],
      "metadata": {
        "colab": {
          "base_uri": "https://localhost:8080/"
        },
        "id": "PW6stR4eWd0L",
        "outputId": "8f3dd299-05f7-49cf-fdff-379f7f11e275"
      },
      "execution_count": null,
      "outputs": [
        {
          "output_type": "execute_result",
          "data": {
            "text/plain": [
              "<seaborn.axisgrid.PairGrid at 0x7f8be8f8de70>"
            ]
          },
          "metadata": {},
          "execution_count": 526
        },
        {
          "output_type": "display_data",
          "data": {
            "text/plain": [
              "<Figure size 500x500 with 6 Axes>"
            ],
            "image/png": "[encoded data removed]"
          },
          "metadata": {}
        }
      ]
    },
    {
      "cell_type": "code",
      "source": [
        "sns.heatmap(df.corr(),annot=True)"
      ],
      "metadata": {
        "colab": {
          "base_uri": "https://localhost:8080/"
        },
        "id": "cmvEQpyMXE2a",
        "outputId": "6d8e6d10-a4f5-4863-b7f2-271162cf91da"
      },
      "execution_count": null,
      "outputs": [
        {
          "output_type": "stream",
          "name": "stderr",
          "text": [
            "<ipython-input-527-8df7bcac526d>:1: FutureWarning: The default value of numeric_only in DataFrame.corr is deprecated. In a future version, it will default to False. Select only valid columns or specify the value of numeric_only to silence this warning.\n",
            "  sns.heatmap(df.corr(),annot=True)\n"
          ]
        },
        {
          "output_type": "execute_result",
          "data": {
            "text/plain": [
              "<Axes: >"
            ]
          },
          "metadata": {},
          "execution_count": 527
        },
        {
          "output_type": "display_data",
          "data": {
            "text/plain": [
              "<Figure size 640x480 with 2 Axes>"
            ],
            "image/png": "[encoded data removed]"
          },
          "metadata": {}
        }
      ]
    },
    {
      "cell_type": "markdown",
      "source": [
        "###Outlier Detection and Replacement"
      ],
      "metadata": {
        "id": "vb1OlNMtXjQc"
      }
    },
    {
      "cell_type": "markdown",
      "source": [
        "####Detection"
      ],
      "metadata": {
        "id": "1__dl6vLf3Ih"
      }
    },
    {
      "cell_type": "code",
      "source": [
        "sns.boxplot(df.Na_to_K)"
      ],
      "metadata": {
        "colab": {
          "base_uri": "https://localhost:8080/"
        },
        "id": "BiHBZr8BXmyz",
        "outputId": "dcae6890-3dc6-4cde-bcc7-8641f58987d2"
      },
      "execution_count": null,
      "outputs": [
        {
          "output_type": "execute_result",
          "data": {
            "text/plain": [
              "<Axes: >"
            ]
          },
          "metadata": {},
          "execution_count": 528
        },
        {
          "output_type": "display_data",
          "data": {
            "text/plain": [
              "<Figure size 640x480 with 1 Axes>"
            ],
            "image/png": "[encoded data removed]"
          },
          "metadata": {}
        }
      ]
    },
    {
      "cell_type": "markdown",
      "source": [
        "####Outlier Replacement"
      ],
      "metadata": {
        "id": "hxIcr2bFf9C1"
      }
    },
    {
      "cell_type": "code",
      "source": [
        "q1 = df.Na_to_K.quantile(0.25)\n",
        "q3 = df.Na_to_K.quantile(0.75)"
      ],
      "metadata": {
        "id": "_WG39t2kZ2KQ"
      },
      "execution_count": null,
      "outputs": []
    },
    {
      "cell_type": "code",
      "source": [
        "q1"
      ],
      "metadata": {
        "colab": {
          "base_uri": "https://localhost:8080/"
        },
        "id": "XKXeHCy2aAgs",
        "outputId": "894c6da3-d0d3-4b3b-d5bb-56e89a19a224"
      },
      "execution_count": null,
      "outputs": [
        {
          "output_type": "execute_result",
          "data": {
            "text/plain": [
              "10.4455"
            ]
          },
          "metadata": {},
          "execution_count": 530
        }
      ]
    },
    {
      "cell_type": "code",
      "source": [
        "q3"
      ],
      "metadata": {
        "colab": {
          "base_uri": "https://localhost:8080/"
        },
        "id": "5DZYLMQDaBsy",
        "outputId": "70583f9a-0aa0-4631-c7c1-6bea9711488d"
      },
      "execution_count": null,
      "outputs": [
        {
          "output_type": "execute_result",
          "data": {
            "text/plain": [
              "19.38"
            ]
          },
          "metadata": {},
          "execution_count": 531
        }
      ]
    },
    {
      "cell_type": "code",
      "source": [
        "IQR = q3-q1\n",
        "IQR"
      ],
      "metadata": {
        "colab": {
          "base_uri": "https://localhost:8080/"
        },
        "id": "_2mnwB2AaDsR",
        "outputId": "41cce9d7-6587-4423-b1d8-646141e739c6"
      },
      "execution_count": null,
      "outputs": [
        {
          "output_type": "execute_result",
          "data": {
            "text/plain": [
              "8.9345"
            ]
          },
          "metadata": {},
          "execution_count": 532
        }
      ]
    },
    {
      "cell_type": "code",
      "source": [
        "upper_limit = q3 + 1.5*IQR\n",
        "lower_limit = q1 - 1.5*IQR"
      ],
      "metadata": {
        "id": "4w_NYiG0aNBh"
      },
      "execution_count": null,
      "outputs": []
    },
    {
      "cell_type": "code",
      "source": [
        "upper_limit"
      ],
      "metadata": {
        "colab": {
          "base_uri": "https://localhost:8080/"
        },
        "id": "itfkaIflabz-",
        "outputId": "98aeb203-6445-4231-f323-fb22e725eda3"
      },
      "execution_count": null,
      "outputs": [
        {
          "output_type": "execute_result",
          "data": {
            "text/plain": [
              "32.78175"
            ]
          },
          "metadata": {},
          "execution_count": 534
        }
      ]
    },
    {
      "cell_type": "code",
      "source": [
        "df.median()"
      ],
      "metadata": {
        "colab": {
          "base_uri": "https://localhost:8080/"
        },
        "id": "rhQCdJTIajdg",
        "outputId": "7a4da126-9bf3-4319-8b39-280fcd166016"
      },
      "execution_count": null,
      "outputs": [
        {
          "output_type": "stream",
          "name": "stderr",
          "text": [
            "<ipython-input-535-6d467abf240d>:1: FutureWarning: The default value of numeric_only in DataFrame.median is deprecated. In a future version, it will default to False. In addition, specifying 'numeric_only=None' is deprecated. Select only valid columns or specify the value of numeric_only to silence this warning.\n",
            "  df.median()\n"
          ]
        },
        {
          "output_type": "execute_result",
          "data": {
            "text/plain": [
              "Age        45.0000\n",
              "Na_to_K    13.9365\n",
              "dtype: float64"
            ]
          },
          "metadata": {},
          "execution_count": 535
        }
      ]
    },
    {
      "cell_type": "code",
      "source": [
        "df['Na_to_K'] = np.where(df['Na_to_K']>upper_limit,13.9365,df['Na_to_K'])"
      ],
      "metadata": {
        "id": "uHV15_j4drWn"
      },
      "execution_count": null,
      "outputs": []
    },
    {
      "cell_type": "code",
      "source": [
        "df.shape"
      ],
      "metadata": {
        "colab": {
          "base_uri": "https://localhost:8080/"
        },
        "id": "kzYrNk6LeIia",
        "outputId": "9376c768-14b9-4621-e565-8e66478bbd02"
      },
      "execution_count": null,
      "outputs": [
        {
          "output_type": "execute_result",
          "data": {
            "text/plain": [
              "(200, 6)"
            ]
          },
          "metadata": {},
          "execution_count": 537
        }
      ]
    },
    {
      "cell_type": "code",
      "source": [
        "sns.boxplot(df['Na_to_K'])"
      ],
      "metadata": {
        "colab": {
          "base_uri": "https://localhost:8080/"
        },
        "id": "nii_9o-BeLIO",
        "outputId": "72fad486-e129-4736-dff1-c0bf89beb633"
      },
      "execution_count": null,
      "outputs": [
        {
          "output_type": "execute_result",
          "data": {
            "text/plain": [
              "<Axes: >"
            ]
          },
          "metadata": {},
          "execution_count": 538
        },
        {
          "output_type": "display_data",
          "data": {
            "text/plain": [
              "<Figure size 640x480 with 1 Axes>"
            ],
            "image/png": "[encoded data removed]"
          },
          "metadata": {}
        }
      ]
    },
    {
      "cell_type": "code",
      "source": [
        "sns.boxplot(df.Age)"
      ],
      "metadata": {
        "colab": {
          "base_uri": "https://localhost:8080/"
        },
        "id": "P4UeswWU_pCI",
        "outputId": "7ce4ae3d-9e27-41a4-a6a6-c823b75327cd"
      },
      "execution_count": null,
      "outputs": [
        {
          "output_type": "execute_result",
          "data": {
            "text/plain": [
              "<Axes: >"
            ]
          },
          "metadata": {},
          "execution_count": 539
        },
        {
          "output_type": "display_data",
          "data": {
            "text/plain": [
              "<Figure size 640x480 with 1 Axes>"
            ],
            "image/png": "[encoded data removed]"
          },
          "metadata": {}
        }
      ]
    },
    {
      "cell_type": "code",
      "source": [
        "# No outlier in Age column"
      ],
      "metadata": {
        "id": "EBq5wtbx_yRJ"
      },
      "execution_count": null,
      "outputs": []
    },
    {
      "cell_type": "markdown",
      "source": [
        "###Splitting Data into Dependent and Independent Data"
      ],
      "metadata": {
        "id": "xPZ-7APeskJV"
      }
    },
    {
      "cell_type": "code",
      "source": [
        "x = df.iloc[:,0:5]\n",
        "x.head(5)"
      ],
      "metadata": {
        "colab": {
          "base_uri": "https://localhost:8080/"
        },
        "id": "fCZXEgRnsyLt",
        "outputId": "0cc2fbd5-2306-42d9-f57d-66bd8f01723b"
      },
      "execution_count": null,
      "outputs": [
        {
          "output_type": "execute_result",
          "data": {
            "text/plain": [
              "   Age Sex      BP Cholesterol  Na_to_K\n",
              "0   23   F    HIGH        HIGH   25.355\n",
              "1   47   M     LOW        HIGH   13.093\n",
              "2   47   M     LOW        HIGH   10.114\n",
              "3   28   F  NORMAL        HIGH    7.798\n",
              "4   61   F     LOW        HIGH   18.043"
            ],
            "text/html": [
              "\n",
              "  <div id=\"df-7c320984-d580-4740-8dc4-e493821cd677\">\n",
              "    <div class=\"colab-df-container\">\n",
              "      <div>\n",
              "<style scoped>\n",
              "    .dataframe tbody tr th:only-of-type {\n",
              "        vertical-align: middle;\n",
              "    }\n",
              "\n",
              "    .dataframe tbody tr th {\n",
              "        vertical-align: top;\n",
              "    }\n",
              "\n",
              "    .dataframe thead th {\n",
              "        text-align: right;\n",
              "    }\n",
              "</style>\n",
              "<table border=\"1\" class=\"dataframe\">\n",
              "  <thead>\n",
              "    <tr style=\"text-align: right;\">\n",
              "      <th></th>\n",
              "      <th>Age</th>\n",
              "      <th>Sex</th>\n",
              "      <th>BP</th>\n",
              "      <th>Cholesterol</th>\n",
              "      <th>Na_to_K</th>\n",
              "    </tr>\n",
              "  </thead>\n",
              "  <tbody>\n",
              "    <tr>\n",
              "      <th>0</th>\n",
              "      <td>23</td>\n",
              "      <td>F</td>\n",
              "      <td>HIGH</td>\n",
              "      <td>HIGH</td>\n",
              "      <td>25.355</td>\n",
              "    </tr>\n",
              "    <tr>\n",
              "      <th>1</th>\n",
              "      <td>47</td>\n",
              "      <td>M</td>\n",
              "      <td>LOW</td>\n",
              "      <td>HIGH</td>\n",
              "      <td>13.093</td>\n",
              "    </tr>\n",
              "    <tr>\n",
              "      <th>2</th>\n",
              "      <td>47</td>\n",
              "      <td>M</td>\n",
              "      <td>LOW</td>\n",
              "      <td>HIGH</td>\n",
              "      <td>10.114</td>\n",
              "    </tr>\n",
              "    <tr>\n",
              "      <th>3</th>\n",
              "      <td>28</td>\n",
              "      <td>F</td>\n",
              "      <td>NORMAL</td>\n",
              "      <td>HIGH</td>\n",
              "      <td>7.798</td>\n",
              "    </tr>\n",
              "    <tr>\n",
              "      <th>4</th>\n",
              "      <td>61</td>\n",
              "      <td>F</td>\n",
              "      <td>LOW</td>\n",
              "      <td>HIGH</td>\n",
              "      <td>18.043</td>\n",
              "    </tr>\n",
              "  </tbody>\n",
              "</table>\n",
              "</div>\n",
              "      <button class=\"colab-df-convert\" onclick=\"convertToInteractive('df-7c320984-d580-4740-8dc4-e493821cd677')\"\n",
              "              title=\"Convert this dataframe to an interactive table.\"\n",
              "              style=\"display:none;\">\n",
              "        \n",
              "  <svg xmlns=\"http://www.w3.org/2000/svg\" height=\"24px\"viewBox=\"0 0 24 24\"\n",
              "       width=\"24px\">\n",
              "    <path d=\"M0 0h24v24H0V0z\" fill=\"none\"/>\n",
              "    <path d=\"M18.56 5.44l.94 2.06.94-2.06 2.06-.94-2.06-.94-.94-2.06-.94 2.06-2.06.94zm-11 1L8.5 8.5l.94-2.06 2.06-.94-2.06-.94L8.5 2.5l-.94 2.06-2.06.94zm10 10l.94 2.06.94-2.06 2.06-.94-2.06-.94-.94-2.06-.94 2.06-2.06.94z\"/><path d=\"M17.41 7.96l-1.37-1.37c-.4-.4-.92-.59-1.43-.59-.52 0-1.04.2-1.43.59L10.3 9.45l-7.72 7.72c-.78.78-.78 2.05 0 2.83L4 21.41c.39.39.9.59 1.41.59.51 0 1.02-.2 1.41-.59l7.78-7.78 2.81-2.81c.8-.78.8-2.07 0-2.86zM5.41 20L4 18.59l7.72-7.72 1.47 1.35L5.41 20z\"/>\n",
              "  </svg>\n",
              "      </button>\n",
              "      \n",
              "  <style>\n",
              "    .colab-df-container {\n",
              "      display:flex;\n",
              "      flex-wrap:wrap;\n",
              "      gap: 12px;\n",
              "    }\n",
              "\n",
              "    .colab-df-convert {\n",
              "      background-color: #E8F0FE;\n",
              "      border: none;\n",
              "      border-radius: 50%;\n",
              "      cursor: pointer;\n",
              "      display: none;\n",
              "      fill: #1967D2;\n",
              "      height: 32px;\n",
              "      padding: 0 0 0 0;\n",
              "      width: 32px;\n",
              "    }\n",
              "\n",
              "    .colab-df-convert:hover {\n",
              "      background-color: #E2EBFA;\n",
              "      box-shadow: 0px 1px 2px rgba(60, 64, 67, 0.3), 0px 1px 3px 1px rgba(60, 64, 67, 0.15);\n",
              "      fill: #174EA6;\n",
              "    }\n",
              "\n",
              "    [theme=dark] .colab-df-convert {\n",
              "      background-color: #3B4455;\n",
              "      fill: #D2E3FC;\n",
              "    }\n",
              "\n",
              "    [theme=dark] .colab-df-convert:hover {\n",
              "      background-color: #434B5C;\n",
              "      box-shadow: 0px 1px 3px 1px rgba(0, 0, 0, 0.15);\n",
              "      filter: drop-shadow(0px 1px 2px rgba(0, 0, 0, 0.3));\n",
              "      fill: #FFFFFF;\n",
              "    }\n",
              "  </style>\n",
              "\n",
              "      <script>\n",
              "        const buttonEl =\n",
              "          document.querySelector('#df-7c320984-d580-4740-8dc4-e493821cd677 button.colab-df-convert');\n",
              "        buttonEl.style.display =\n",
              "          google.colab.kernel.accessAllowed ? 'block' : 'none';\n",
              "\n",
              "        async function convertToInteractive(key) {\n",
              "          const element = document.querySelector('#df-7c320984-d580-4740-8dc4-e493821cd677');\n",
              "          const dataTable =\n",
              "            await google.colab.kernel.invokeFunction('convertToInteractive',\n",
              "                                                     [key], {});\n",
              "          if (!dataTable) return;\n",
              "\n",
              "          const docLinkHtml = 'Like what you see? Visit the ' +\n",
              "            '<a target=\"_blank\" href=https://colab.research.google.com/notebooks/data_table.ipynb>data table notebook</a>'\n",
              "            + ' to learn more about interactive tables.';\n",
              "          element.innerHTML = '';\n",
              "          dataTable['output_type'] = 'display_data';\n",
              "          await google.colab.output.renderOutput(dataTable, element);\n",
              "          const docLink = document.createElement('div');\n",
              "          docLink.innerHTML = docLinkHtml;\n",
              "          element.appendChild(docLink);\n",
              "        }\n",
              "      </script>\n",
              "    </div>\n",
              "  </div>\n",
              "  "
            ]
          },
          "metadata": {},
          "execution_count": 541
        }
      ]
    },
    {
      "cell_type": "code",
      "source": [
        "y = df['Drug']\n",
        "y"
      ],
      "metadata": {
        "colab": {
          "base_uri": "https://localhost:8080/"
        },
        "id": "j5z_8xLvtam_",
        "outputId": "a35633c6-8b70-4f60-bed1-fa469a873016"
      },
      "execution_count": null,
      "outputs": [
        {
          "output_type": "execute_result",
          "data": {
            "text/plain": [
              "0      DrugY\n",
              "1      drugC\n",
              "2      drugC\n",
              "3      drugX\n",
              "4      DrugY\n",
              "       ...  \n",
              "195    drugC\n",
              "196    drugC\n",
              "197    drugX\n",
              "198    drugX\n",
              "199    drugX\n",
              "Name: Drug, Length: 200, dtype: object"
            ]
          },
          "metadata": {},
          "execution_count": 542
        }
      ]
    },
    {
      "cell_type": "markdown",
      "source": [
        "###Encoding Categorical Data"
      ],
      "metadata": {
        "id": "uMAsw3rybdmW"
      }
    },
    {
      "cell_type": "code",
      "source": [
        "from sklearn.preprocessing import LabelEncoder\n",
        "l = LabelEncoder()"
      ],
      "metadata": {
        "id": "UKpuFpgHbiS5"
      },
      "execution_count": null,
      "outputs": []
    },
    {
      "cell_type": "code",
      "source": [
        "x['Sex'] = l.fit_transform(x['Sex'])\n",
        "x.head()"
      ],
      "metadata": {
        "colab": {
          "base_uri": "https://localhost:8080/"
        },
        "id": "ckfq6GV9VCE5",
        "outputId": "1e95c708-32bb-40ef-c20c-12aa3b29291c"
      },
      "execution_count": null,
      "outputs": [
        {
          "output_type": "execute_result",
          "data": {
            "text/plain": [
              "   Age  Sex      BP Cholesterol  Na_to_K\n",
              "0   23    0    HIGH        HIGH   25.355\n",
              "1   47    1     LOW        HIGH   13.093\n",
              "2   47    1     LOW        HIGH   10.114\n",
              "3   28    0  NORMAL        HIGH    7.798\n",
              "4   61    0     LOW        HIGH   18.043"
            ],
            "text/html": [
              "\n",
              "  <div id=\"df-92fdf34a-c8d0-4083-a4c4-b036d9473d6d\">\n",
              "    <div class=\"colab-df-container\">\n",
              "      <div>\n",
              "<style scoped>\n",
              "    .dataframe tbody tr th:only-of-type {\n",
              "        vertical-align: middle;\n",
              "    }\n",
              "\n",
              "    .dataframe tbody tr th {\n",
              "        vertical-align: top;\n",
              "    }\n",
              "\n",
              "    .dataframe thead th {\n",
              "        text-align: right;\n",
              "    }\n",
              "</style>\n",
              "<table border=\"1\" class=\"dataframe\">\n",
              "  <thead>\n",
              "    <tr style=\"text-align: right;\">\n",
              "      <th></th>\n",
              "      <th>Age</th>\n",
              "      <th>Sex</th>\n",
              "      <th>BP</th>\n",
              "      <th>Cholesterol</th>\n",
              "      <th>Na_to_K</th>\n",
              "    </tr>\n",
              "  </thead>\n",
              "  <tbody>\n",
              "    <tr>\n",
              "      <th>0</th>\n",
              "      <td>23</td>\n",
              "      <td>0</td>\n",
              "      <td>HIGH</td>\n",
              "      <td>HIGH</td>\n",
              "      <td>25.355</td>\n",
              "    </tr>\n",
              "    <tr>\n",
              "      <th>1</th>\n",
              "      <td>47</td>\n",
              "      <td>1</td>\n",
              "      <td>LOW</td>\n",
              "      <td>HIGH</td>\n",
              "      <td>13.093</td>\n",
              "    </tr>\n",
              "    <tr>\n",
              "      <th>2</th>\n",
              "      <td>47</td>\n",
              "      <td>1</td>\n",
              "      <td>LOW</td>\n",
              "      <td>HIGH</td>\n",
              "      <td>10.114</td>\n",
              "    </tr>\n",
              "    <tr>\n",
              "      <th>3</th>\n",
              "      <td>28</td>\n",
              "      <td>0</td>\n",
              "      <td>NORMAL</td>\n",
              "      <td>HIGH</td>\n",
              "      <td>7.798</td>\n",
              "    </tr>\n",
              "    <tr>\n",
              "      <th>4</th>\n",
              "      <td>61</td>\n",
              "      <td>0</td>\n",
              "      <td>LOW</td>\n",
              "      <td>HIGH</td>\n",
              "      <td>18.043</td>\n",
              "    </tr>\n",
              "  </tbody>\n",
              "</table>\n",
              "</div>\n",
              "      <button class=\"colab-df-convert\" onclick=\"convertToInteractive('df-92fdf34a-c8d0-4083-a4c4-b036d9473d6d')\"\n",
              "              title=\"Convert this dataframe to an interactive table.\"\n",
              "              style=\"display:none;\">\n",
              "        \n",
              "  <svg xmlns=\"http://www.w3.org/2000/svg\" height=\"24px\"viewBox=\"0 0 24 24\"\n",
              "       width=\"24px\">\n",
              "    <path d=\"M0 0h24v24H0V0z\" fill=\"none\"/>\n",
              "    <path d=\"M18.56 5.44l.94 2.06.94-2.06 2.06-.94-2.06-.94-.94-2.06-.94 2.06-2.06.94zm-11 1L8.5 8.5l.94-2.06 2.06-.94-2.06-.94L8.5 2.5l-.94 2.06-2.06.94zm10 10l.94 2.06.94-2.06 2.06-.94-2.06-.94-.94-2.06-.94 2.06-2.06.94z\"/><path d=\"M17.41 7.96l-1.37-1.37c-.4-.4-.92-.59-1.43-.59-.52 0-1.04.2-1.43.59L10.3 9.45l-7.72 7.72c-.78.78-.78 2.05 0 2.83L4 21.41c.39.39.9.59 1.41.59.51 0 1.02-.2 1.41-.59l7.78-7.78 2.81-2.81c.8-.78.8-2.07 0-2.86zM5.41 20L4 18.59l7.72-7.72 1.47 1.35L5.41 20z\"/>\n",
              "  </svg>\n",
              "      </button>\n",
              "      \n",
              "  <style>\n",
              "    .colab-df-container {\n",
              "      display:flex;\n",
              "      flex-wrap:wrap;\n",
              "      gap: 12px;\n",
              "    }\n",
              "\n",
              "    .colab-df-convert {\n",
              "      background-color: #E8F0FE;\n",
              "      border: none;\n",
              "      border-radius: 50%;\n",
              "      cursor: pointer;\n",
              "      display: none;\n",
              "      fill: #1967D2;\n",
              "      height: 32px;\n",
              "      padding: 0 0 0 0;\n",
              "      width: 32px;\n",
              "    }\n",
              "\n",
              "    .colab-df-convert:hover {\n",
              "      background-color: #E2EBFA;\n",
              "      box-shadow: 0px 1px 2px rgba(60, 64, 67, 0.3), 0px 1px 3px 1px rgba(60, 64, 67, 0.15);\n",
              "      fill: #174EA6;\n",
              "    }\n",
              "\n",
              "    [theme=dark] .colab-df-convert {\n",
              "      background-color: #3B4455;\n",
              "      fill: #D2E3FC;\n",
              "    }\n",
              "\n",
              "    [theme=dark] .colab-df-convert:hover {\n",
              "      background-color: #434B5C;\n",
              "      box-shadow: 0px 1px 3px 1px rgba(0, 0, 0, 0.15);\n",
              "      filter: drop-shadow(0px 1px 2px rgba(0, 0, 0, 0.3));\n",
              "      fill: #FFFFFF;\n",
              "    }\n",
              "  </style>\n",
              "\n",
              "      <script>\n",
              "        const buttonEl =\n",
              "          document.querySelector('#df-92fdf34a-c8d0-4083-a4c4-b036d9473d6d button.colab-df-convert');\n",
              "        buttonEl.style.display =\n",
              "          google.colab.kernel.accessAllowed ? 'block' : 'none';\n",
              "\n",
              "        async function convertToInteractive(key) {\n",
              "          const element = document.querySelector('#df-92fdf34a-c8d0-4083-a4c4-b036d9473d6d');\n",
              "          const dataTable =\n",
              "            await google.colab.kernel.invokeFunction('convertToInteractive',\n",
              "                                                     [key], {});\n",
              "          if (!dataTable) return;\n",
              "\n",
              "          const docLinkHtml = 'Like what you see? Visit the ' +\n",
              "            '<a target=\"_blank\" href=https://colab.research.google.com/notebooks/data_table.ipynb>data table notebook</a>'\n",
              "            + ' to learn more about interactive tables.';\n",
              "          element.innerHTML = '';\n",
              "          dataTable['output_type'] = 'display_data';\n",
              "          await google.colab.output.renderOutput(dataTable, element);\n",
              "          const docLink = document.createElement('div');\n",
              "          docLink.innerHTML = docLinkHtml;\n",
              "          element.appendChild(docLink);\n",
              "        }\n",
              "      </script>\n",
              "    </div>\n",
              "  </div>\n",
              "  "
            ]
          },
          "metadata": {},
          "execution_count": 544
        }
      ]
    },
    {
      "cell_type": "code",
      "source": [
        "x['BP'] = l.fit_transform(x['BP'])\n",
        "x.head()"
      ],
      "metadata": {
        "colab": {
          "base_uri": "https://localhost:8080/"
        },
        "id": "5UEWdVfzVI16",
        "outputId": "ef775bb5-c343-4920-bebe-5d4f3342bf6c"
      },
      "execution_count": null,
      "outputs": [
        {
          "output_type": "execute_result",
          "data": {
            "text/plain": [
              "   Age  Sex  BP Cholesterol  Na_to_K\n",
              "0   23    0   0        HIGH   25.355\n",
              "1   47    1   1        HIGH   13.093\n",
              "2   47    1   1        HIGH   10.114\n",
              "3   28    0   2        HIGH    7.798\n",
              "4   61    0   1        HIGH   18.043"
            ],
            "text/html": [
              "\n",
              "  <div id=\"df-60242e81-e4da-484a-a725-74dafca64daa\">\n",
              "    <div class=\"colab-df-container\">\n",
              "      <div>\n",
              "<style scoped>\n",
              "    .dataframe tbody tr th:only-of-type {\n",
              "        vertical-align: middle;\n",
              "    }\n",
              "\n",
              "    .dataframe tbody tr th {\n",
              "        vertical-align: top;\n",
              "    }\n",
              "\n",
              "    .dataframe thead th {\n",
              "        text-align: right;\n",
              "    }\n",
              "</style>\n",
              "<table border=\"1\" class=\"dataframe\">\n",
              "  <thead>\n",
              "    <tr style=\"text-align: right;\">\n",
              "      <th></th>\n",
              "      <th>Age</th>\n",
              "      <th>Sex</th>\n",
              "      <th>BP</th>\n",
              "      <th>Cholesterol</th>\n",
              "      <th>Na_to_K</th>\n",
              "    </tr>\n",
              "  </thead>\n",
              "  <tbody>\n",
              "    <tr>\n",
              "      <th>0</th>\n",
              "      <td>23</td>\n",
              "      <td>0</td>\n",
              "      <td>0</td>\n",
              "      <td>HIGH</td>\n",
              "      <td>25.355</td>\n",
              "    </tr>\n",
              "    <tr>\n",
              "      <th>1</th>\n",
              "      <td>47</td>\n",
              "      <td>1</td>\n",
              "      <td>1</td>\n",
              "      <td>HIGH</td>\n",
              "      <td>13.093</td>\n",
              "    </tr>\n",
              "    <tr>\n",
              "      <th>2</th>\n",
              "      <td>47</td>\n",
              "      <td>1</td>\n",
              "      <td>1</td>\n",
              "      <td>HIGH</td>\n",
              "      <td>10.114</td>\n",
              "    </tr>\n",
              "    <tr>\n",
              "      <th>3</th>\n",
              "      <td>28</td>\n",
              "      <td>0</td>\n",
              "      <td>2</td>\n",
              "      <td>HIGH</td>\n",
              "      <td>7.798</td>\n",
              "    </tr>\n",
              "    <tr>\n",
              "      <th>4</th>\n",
              "      <td>61</td>\n",
              "      <td>0</td>\n",
              "      <td>1</td>\n",
              "      <td>HIGH</td>\n",
              "      <td>18.043</td>\n",
              "    </tr>\n",
              "  </tbody>\n",
              "</table>\n",
              "</div>\n",
              "      <button class=\"colab-df-convert\" onclick=\"convertToInteractive('df-60242e81-e4da-484a-a725-74dafca64daa')\"\n",
              "              title=\"Convert this dataframe to an interactive table.\"\n",
              "              style=\"display:none;\">\n",
              "        \n",
              "  <svg xmlns=\"http://www.w3.org/2000/svg\" height=\"24px\"viewBox=\"0 0 24 24\"\n",
              "       width=\"24px\">\n",
              "    <path d=\"M0 0h24v24H0V0z\" fill=\"none\"/>\n",
              "    <path d=\"M18.56 5.44l.94 2.06.94-2.06 2.06-.94-2.06-.94-.94-2.06-.94 2.06-2.06.94zm-11 1L8.5 8.5l.94-2.06 2.06-.94-2.06-.94L8.5 2.5l-.94 2.06-2.06.94zm10 10l.94 2.06.94-2.06 2.06-.94-2.06-.94-.94-2.06-.94 2.06-2.06.94z\"/><path d=\"M17.41 7.96l-1.37-1.37c-.4-.4-.92-.59-1.43-.59-.52 0-1.04.2-1.43.59L10.3 9.45l-7.72 7.72c-.78.78-.78 2.05 0 2.83L4 21.41c.39.39.9.59 1.41.59.51 0 1.02-.2 1.41-.59l7.78-7.78 2.81-2.81c.8-.78.8-2.07 0-2.86zM5.41 20L4 18.59l7.72-7.72 1.47 1.35L5.41 20z\"/>\n",
              "  </svg>\n",
              "      </button>\n",
              "      \n",
              "  <style>\n",
              "    .colab-df-container {\n",
              "      display:flex;\n",
              "      flex-wrap:wrap;\n",
              "      gap: 12px;\n",
              "    }\n",
              "\n",
              "    .colab-df-convert {\n",
              "      background-color: #E8F0FE;\n",
              "      border: none;\n",
              "      border-radius: 50%;\n",
              "      cursor: pointer;\n",
              "      display: none;\n",
              "      fill: #1967D2;\n",
              "      height: 32px;\n",
              "      padding: 0 0 0 0;\n",
              "      width: 32px;\n",
              "    }\n",
              "\n",
              "    .colab-df-convert:hover {\n",
              "      background-color: #E2EBFA;\n",
              "      box-shadow: 0px 1px 2px rgba(60, 64, 67, 0.3), 0px 1px 3px 1px rgba(60, 64, 67, 0.15);\n",
              "      fill: #174EA6;\n",
              "    }\n",
              "\n",
              "    [theme=dark] .colab-df-convert {\n",
              "      background-color: #3B4455;\n",
              "      fill: #D2E3FC;\n",
              "    }\n",
              "\n",
              "    [theme=dark] .colab-df-convert:hover {\n",
              "      background-color: #434B5C;\n",
              "      box-shadow: 0px 1px 3px 1px rgba(0, 0, 0, 0.15);\n",
              "      filter: drop-shadow(0px 1px 2px rgba(0, 0, 0, 0.3));\n",
              "      fill: #FFFFFF;\n",
              "    }\n",
              "  </style>\n",
              "\n",
              "      <script>\n",
              "        const buttonEl =\n",
              "          document.querySelector('#df-60242e81-e4da-484a-a725-74dafca64daa button.colab-df-convert');\n",
              "        buttonEl.style.display =\n",
              "          google.colab.kernel.accessAllowed ? 'block' : 'none';\n",
              "\n",
              "        async function convertToInteractive(key) {\n",
              "          const element = document.querySelector('#df-60242e81-e4da-484a-a725-74dafca64daa');\n",
              "          const dataTable =\n",
              "            await google.colab.kernel.invokeFunction('convertToInteractive',\n",
              "                                                     [key], {});\n",
              "          if (!dataTable) return;\n",
              "\n",
              "          const docLinkHtml = 'Like what you see? Visit the ' +\n",
              "            '<a target=\"_blank\" href=https://colab.research.google.com/notebooks/data_table.ipynb>data table notebook</a>'\n",
              "            + ' to learn more about interactive tables.';\n",
              "          element.innerHTML = '';\n",
              "          dataTable['output_type'] = 'display_data';\n",
              "          await google.colab.output.renderOutput(dataTable, element);\n",
              "          const docLink = document.createElement('div');\n",
              "          docLink.innerHTML = docLinkHtml;\n",
              "          element.appendChild(docLink);\n",
              "        }\n",
              "      </script>\n",
              "    </div>\n",
              "  </div>\n",
              "  "
            ]
          },
          "metadata": {},
          "execution_count": 545
        }
      ]
    },
    {
      "cell_type": "code",
      "source": [
        "x['Cholesterol'] = l.fit_transform(x['Cholesterol'])\n",
        "x.head()"
      ],
      "metadata": {
        "colab": {
          "base_uri": "https://localhost:8080/"
        },
        "id": "iZdAps3rVRdB",
        "outputId": "01d81dc7-7376-423a-bc31-9698011ba8bb"
      },
      "execution_count": null,
      "outputs": [
        {
          "output_type": "execute_result",
          "data": {
            "text/plain": [
              "   Age  Sex  BP  Cholesterol  Na_to_K\n",
              "0   23    0   0            0   25.355\n",
              "1   47    1   1            0   13.093\n",
              "2   47    1   1            0   10.114\n",
              "3   28    0   2            0    7.798\n",
              "4   61    0   1            0   18.043"
            ],
            "text/html": [
              "\n",
              "  <div id=\"df-aeccb921-f194-4b08-a792-6613dce02cd2\">\n",
              "    <div class=\"colab-df-container\">\n",
              "      <div>\n",
              "<style scoped>\n",
              "    .dataframe tbody tr th:only-of-type {\n",
              "        vertical-align: middle;\n",
              "    }\n",
              "\n",
              "    .dataframe tbody tr th {\n",
              "        vertical-align: top;\n",
              "    }\n",
              "\n",
              "    .dataframe thead th {\n",
              "        text-align: right;\n",
              "    }\n",
              "</style>\n",
              "<table border=\"1\" class=\"dataframe\">\n",
              "  <thead>\n",
              "    <tr style=\"text-align: right;\">\n",
              "      <th></th>\n",
              "      <th>Age</th>\n",
              "      <th>Sex</th>\n",
              "      <th>BP</th>\n",
              "      <th>Cholesterol</th>\n",
              "      <th>Na_to_K</th>\n",
              "    </tr>\n",
              "  </thead>\n",
              "  <tbody>\n",
              "    <tr>\n",
              "      <th>0</th>\n",
              "      <td>23</td>\n",
              "      <td>0</td>\n",
              "      <td>0</td>\n",
              "      <td>0</td>\n",
              "      <td>25.355</td>\n",
              "    </tr>\n",
              "    <tr>\n",
              "      <th>1</th>\n",
              "      <td>47</td>\n",
              "      <td>1</td>\n",
              "      <td>1</td>\n",
              "      <td>0</td>\n",
              "      <td>13.093</td>\n",
              "    </tr>\n",
              "    <tr>\n",
              "      <th>2</th>\n",
              "      <td>47</td>\n",
              "      <td>1</td>\n",
              "      <td>1</td>\n",
              "      <td>0</td>\n",
              "      <td>10.114</td>\n",
              "    </tr>\n",
              "    <tr>\n",
              "      <th>3</th>\n",
              "      <td>28</td>\n",
              "      <td>0</td>\n",
              "      <td>2</td>\n",
              "      <td>0</td>\n",
              "      <td>7.798</td>\n",
              "    </tr>\n",
              "    <tr>\n",
              "      <th>4</th>\n",
              "      <td>61</td>\n",
              "      <td>0</td>\n",
              "      <td>1</td>\n",
              "      <td>0</td>\n",
              "      <td>18.043</td>\n",
              "    </tr>\n",
              "  </tbody>\n",
              "</table>\n",
              "</div>\n",
              "      <button class=\"colab-df-convert\" onclick=\"convertToInteractive('df-aeccb921-f194-4b08-a792-6613dce02cd2')\"\n",
              "              title=\"Convert this dataframe to an interactive table.\"\n",
              "              style=\"display:none;\">\n",
              "        \n",
              "  <svg xmlns=\"http://www.w3.org/2000/svg\" height=\"24px\"viewBox=\"0 0 24 24\"\n",
              "       width=\"24px\">\n",
              "    <path d=\"M0 0h24v24H0V0z\" fill=\"none\"/>\n",
              "    <path d=\"M18.56 5.44l.94 2.06.94-2.06 2.06-.94-2.06-.94-.94-2.06-.94 2.06-2.06.94zm-11 1L8.5 8.5l.94-2.06 2.06-.94-2.06-.94L8.5 2.5l-.94 2.06-2.06.94zm10 10l.94 2.06.94-2.06 2.06-.94-2.06-.94-.94-2.06-.94 2.06-2.06.94z\"/><path d=\"M17.41 7.96l-1.37-1.37c-.4-.4-.92-.59-1.43-.59-.52 0-1.04.2-1.43.59L10.3 9.45l-7.72 7.72c-.78.78-.78 2.05 0 2.83L4 21.41c.39.39.9.59 1.41.59.51 0 1.02-.2 1.41-.59l7.78-7.78 2.81-2.81c.8-.78.8-2.07 0-2.86zM5.41 20L4 18.59l7.72-7.72 1.47 1.35L5.41 20z\"/>\n",
              "  </svg>\n",
              "      </button>\n",
              "      \n",
              "  <style>\n",
              "    .colab-df-container {\n",
              "      display:flex;\n",
              "      flex-wrap:wrap;\n",
              "      gap: 12px;\n",
              "    }\n",
              "\n",
              "    .colab-df-convert {\n",
              "      background-color: #E8F0FE;\n",
              "      border: none;\n",
              "      border-radius: 50%;\n",
              "      cursor: pointer;\n",
              "      display: none;\n",
              "      fill: #1967D2;\n",
              "      height: 32px;\n",
              "      padding: 0 0 0 0;\n",
              "      width: 32px;\n",
              "    }\n",
              "\n",
              "    .colab-df-convert:hover {\n",
              "      background-color: #E2EBFA;\n",
              "      box-shadow: 0px 1px 2px rgba(60, 64, 67, 0.3), 0px 1px 3px 1px rgba(60, 64, 67, 0.15);\n",
              "      fill: #174EA6;\n",
              "    }\n",
              "\n",
              "    [theme=dark] .colab-df-convert {\n",
              "      background-color: #3B4455;\n",
              "      fill: #D2E3FC;\n",
              "    }\n",
              "\n",
              "    [theme=dark] .colab-df-convert:hover {\n",
              "      background-color: #434B5C;\n",
              "      box-shadow: 0px 1px 3px 1px rgba(0, 0, 0, 0.15);\n",
              "      filter: drop-shadow(0px 1px 2px rgba(0, 0, 0, 0.3));\n",
              "      fill: #FFFFFF;\n",
              "    }\n",
              "  </style>\n",
              "\n",
              "      <script>\n",
              "        const buttonEl =\n",
              "          document.querySelector('#df-aeccb921-f194-4b08-a792-6613dce02cd2 button.colab-df-convert');\n",
              "        buttonEl.style.display =\n",
              "          google.colab.kernel.accessAllowed ? 'block' : 'none';\n",
              "\n",
              "        async function convertToInteractive(key) {\n",
              "          const element = document.querySelector('#df-aeccb921-f194-4b08-a792-6613dce02cd2');\n",
              "          const dataTable =\n",
              "            await google.colab.kernel.invokeFunction('convertToInteractive',\n",
              "                                                     [key], {});\n",
              "          if (!dataTable) return;\n",
              "\n",
              "          const docLinkHtml = 'Like what you see? Visit the ' +\n",
              "            '<a target=\"_blank\" href=https://colab.research.google.com/notebooks/data_table.ipynb>data table notebook</a>'\n",
              "            + ' to learn more about interactive tables.';\n",
              "          element.innerHTML = '';\n",
              "          dataTable['output_type'] = 'display_data';\n",
              "          await google.colab.output.renderOutput(dataTable, element);\n",
              "          const docLink = document.createElement('div');\n",
              "          docLink.innerHTML = docLinkHtml;\n",
              "          element.appendChild(docLink);\n",
              "        }\n",
              "      </script>\n",
              "    </div>\n",
              "  </div>\n",
              "  "
            ]
          },
          "metadata": {},
          "execution_count": 546
        }
      ]
    },
    {
      "cell_type": "code",
      "source": [
        "x = pd.DataFrame(x);\n",
        "x = x.iloc[:,0:5].values\n",
        "x"
      ],
      "metadata": {
        "colab": {
          "base_uri": "https://localhost:8080/"
        },
        "id": "ZFl03aliWxPf",
        "outputId": "4cd0ace5-174b-427d-e93d-79459f8828a1"
      },
      "execution_count": null,
      "outputs": [
        {
          "output_type": "execute_result",
          "data": {
            "text/plain": [
              "array([[23.    ,  0.    ,  0.    ,  0.    , 25.355 ],\n",
              "       [47.    ,  1.    ,  1.    ,  0.    , 13.093 ],\n",
              "       [47.    ,  1.    ,  1.    ,  0.    , 10.114 ],\n",
              "       [28.    ,  0.    ,  2.    ,  0.    ,  7.798 ],\n",
              "       [61.    ,  0.    ,  1.    ,  0.    , 18.043 ],\n",
              "       [22.    ,  0.    ,  2.    ,  0.    ,  8.607 ],\n",
              "       [49.    ,  0.    ,  2.    ,  0.    , 16.275 ],\n",
              "       [41.    ,  1.    ,  1.    ,  0.    , 11.037 ],\n",
              "       [60.    ,  1.    ,  2.    ,  0.    , 15.171 ],\n",
              "       [43.    ,  1.    ,  1.    ,  1.    , 19.368 ],\n",
              "       [47.    ,  0.    ,  1.    ,  0.    , 11.767 ],\n",
              "       [34.    ,  0.    ,  0.    ,  1.    , 19.199 ],\n",
              "       [43.    ,  1.    ,  1.    ,  0.    , 15.376 ],\n",
              "       [74.    ,  0.    ,  1.    ,  0.    , 20.942 ],\n",
              "       [50.    ,  0.    ,  2.    ,  0.    , 12.703 ],\n",
              "       [16.    ,  0.    ,  0.    ,  1.    , 15.516 ],\n",
              "       [69.    ,  1.    ,  1.    ,  1.    , 11.455 ],\n",
              "       [43.    ,  1.    ,  0.    ,  0.    , 13.972 ],\n",
              "       [23.    ,  1.    ,  1.    ,  0.    ,  7.298 ],\n",
              "       [32.    ,  0.    ,  0.    ,  1.    , 25.974 ],\n",
              "       [57.    ,  1.    ,  1.    ,  1.    , 19.128 ],\n",
              "       [63.    ,  1.    ,  2.    ,  0.    , 25.917 ],\n",
              "       [47.    ,  1.    ,  1.    ,  1.    , 30.568 ],\n",
              "       [48.    ,  0.    ,  1.    ,  0.    , 15.036 ],\n",
              "       [33.    ,  0.    ,  1.    ,  0.    , 13.9365],\n",
              "       [28.    ,  0.    ,  0.    ,  1.    , 18.809 ],\n",
              "       [31.    ,  1.    ,  0.    ,  0.    , 30.366 ],\n",
              "       [49.    ,  0.    ,  2.    ,  1.    ,  9.381 ],\n",
              "       [39.    ,  0.    ,  1.    ,  1.    , 22.697 ],\n",
              "       [45.    ,  1.    ,  1.    ,  0.    , 17.951 ],\n",
              "       [18.    ,  0.    ,  2.    ,  1.    ,  8.75  ],\n",
              "       [74.    ,  1.    ,  0.    ,  0.    ,  9.567 ],\n",
              "       [49.    ,  1.    ,  1.    ,  1.    , 11.014 ],\n",
              "       [65.    ,  0.    ,  0.    ,  1.    , 31.876 ],\n",
              "       [53.    ,  1.    ,  2.    ,  0.    , 14.133 ],\n",
              "       [46.    ,  1.    ,  2.    ,  1.    ,  7.285 ],\n",
              "       [32.    ,  1.    ,  0.    ,  1.    ,  9.445 ],\n",
              "       [39.    ,  1.    ,  1.    ,  1.    , 13.938 ],\n",
              "       [39.    ,  0.    ,  2.    ,  1.    ,  9.709 ],\n",
              "       [15.    ,  1.    ,  2.    ,  0.    ,  9.084 ],\n",
              "       [73.    ,  0.    ,  2.    ,  0.    , 19.221 ],\n",
              "       [58.    ,  0.    ,  0.    ,  1.    , 14.239 ],\n",
              "       [50.    ,  1.    ,  2.    ,  1.    , 15.79  ],\n",
              "       [23.    ,  1.    ,  2.    ,  0.    , 12.26  ],\n",
              "       [50.    ,  0.    ,  2.    ,  1.    , 12.295 ],\n",
              "       [66.    ,  0.    ,  2.    ,  1.    ,  8.107 ],\n",
              "       [37.    ,  0.    ,  0.    ,  0.    , 13.091 ],\n",
              "       [68.    ,  1.    ,  1.    ,  0.    , 10.291 ],\n",
              "       [23.    ,  1.    ,  2.    ,  0.    , 31.686 ],\n",
              "       [28.    ,  0.    ,  1.    ,  0.    , 19.796 ],\n",
              "       [58.    ,  0.    ,  0.    ,  0.    , 19.416 ],\n",
              "       [67.    ,  1.    ,  2.    ,  1.    , 10.898 ],\n",
              "       [62.    ,  1.    ,  1.    ,  1.    , 27.183 ],\n",
              "       [24.    ,  0.    ,  0.    ,  1.    , 18.457 ],\n",
              "       [68.    ,  0.    ,  0.    ,  1.    , 10.189 ],\n",
              "       [26.    ,  0.    ,  1.    ,  0.    , 14.16  ],\n",
              "       [65.    ,  1.    ,  0.    ,  1.    , 11.34  ],\n",
              "       [40.    ,  1.    ,  0.    ,  0.    , 27.826 ],\n",
              "       [60.    ,  1.    ,  2.    ,  1.    , 10.091 ],\n",
              "       [34.    ,  1.    ,  0.    ,  0.    , 18.703 ],\n",
              "       [38.    ,  0.    ,  1.    ,  1.    , 29.875 ],\n",
              "       [24.    ,  1.    ,  0.    ,  1.    ,  9.475 ],\n",
              "       [67.    ,  1.    ,  1.    ,  1.    , 20.693 ],\n",
              "       [45.    ,  1.    ,  1.    ,  1.    ,  8.37  ],\n",
              "       [60.    ,  0.    ,  0.    ,  0.    , 13.303 ],\n",
              "       [68.    ,  0.    ,  2.    ,  1.    , 27.05  ],\n",
              "       [29.    ,  1.    ,  0.    ,  0.    , 12.856 ],\n",
              "       [17.    ,  1.    ,  2.    ,  1.    , 10.832 ],\n",
              "       [54.    ,  1.    ,  2.    ,  0.    , 24.658 ],\n",
              "       [18.    ,  0.    ,  0.    ,  1.    , 24.276 ],\n",
              "       [70.    ,  1.    ,  0.    ,  0.    , 13.967 ],\n",
              "       [28.    ,  0.    ,  2.    ,  0.    , 19.675 ],\n",
              "       [24.    ,  0.    ,  2.    ,  0.    , 10.605 ],\n",
              "       [41.    ,  0.    ,  2.    ,  1.    , 22.905 ],\n",
              "       [31.    ,  1.    ,  0.    ,  1.    , 17.069 ],\n",
              "       [26.    ,  1.    ,  1.    ,  1.    , 20.909 ],\n",
              "       [36.    ,  0.    ,  0.    ,  0.    , 11.198 ],\n",
              "       [26.    ,  0.    ,  0.    ,  1.    , 19.161 ],\n",
              "       [19.    ,  0.    ,  0.    ,  0.    , 13.313 ],\n",
              "       [32.    ,  0.    ,  1.    ,  1.    , 10.84  ],\n",
              "       [60.    ,  1.    ,  0.    ,  0.    , 13.934 ],\n",
              "       [64.    ,  1.    ,  2.    ,  0.    ,  7.761 ],\n",
              "       [32.    ,  0.    ,  1.    ,  0.    ,  9.712 ],\n",
              "       [38.    ,  0.    ,  0.    ,  1.    , 11.326 ],\n",
              "       [47.    ,  0.    ,  1.    ,  0.    , 10.067 ],\n",
              "       [59.    ,  1.    ,  0.    ,  0.    , 13.935 ],\n",
              "       [51.    ,  0.    ,  2.    ,  0.    , 13.597 ],\n",
              "       [69.    ,  1.    ,  1.    ,  0.    , 15.478 ],\n",
              "       [37.    ,  0.    ,  0.    ,  1.    , 23.091 ],\n",
              "       [50.    ,  0.    ,  2.    ,  1.    , 17.211 ],\n",
              "       [62.    ,  1.    ,  2.    ,  0.    , 16.594 ],\n",
              "       [41.    ,  1.    ,  0.    ,  1.    , 15.156 ],\n",
              "       [29.    ,  0.    ,  0.    ,  0.    , 29.45  ],\n",
              "       [42.    ,  0.    ,  1.    ,  1.    , 29.271 ],\n",
              "       [56.    ,  1.    ,  1.    ,  0.    , 15.015 ],\n",
              "       [36.    ,  1.    ,  1.    ,  1.    , 11.424 ],\n",
              "       [58.    ,  0.    ,  1.    ,  0.    , 13.9365],\n",
              "       [56.    ,  0.    ,  0.    ,  0.    , 25.395 ],\n",
              "       [20.    ,  1.    ,  0.    ,  1.    , 13.9365],\n",
              "       [15.    ,  0.    ,  0.    ,  1.    , 16.725 ],\n",
              "       [31.    ,  1.    ,  0.    ,  1.    , 11.871 ],\n",
              "       [45.    ,  0.    ,  0.    ,  0.    , 12.854 ],\n",
              "       [28.    ,  0.    ,  1.    ,  0.    , 13.127 ],\n",
              "       [56.    ,  1.    ,  2.    ,  0.    ,  8.966 ],\n",
              "       [22.    ,  1.    ,  0.    ,  1.    , 28.294 ],\n",
              "       [37.    ,  1.    ,  1.    ,  1.    ,  8.968 ],\n",
              "       [22.    ,  1.    ,  2.    ,  0.    , 11.953 ],\n",
              "       [42.    ,  1.    ,  1.    ,  0.    , 20.013 ],\n",
              "       [72.    ,  1.    ,  0.    ,  1.    ,  9.677 ],\n",
              "       [23.    ,  1.    ,  2.    ,  0.    , 16.85  ],\n",
              "       [50.    ,  1.    ,  0.    ,  0.    ,  7.49  ],\n",
              "       [47.    ,  0.    ,  2.    ,  1.    ,  6.683 ],\n",
              "       [35.    ,  1.    ,  1.    ,  1.    ,  9.17  ],\n",
              "       [65.    ,  0.    ,  1.    ,  1.    , 13.769 ],\n",
              "       [20.    ,  0.    ,  2.    ,  1.    ,  9.281 ],\n",
              "       [51.    ,  1.    ,  0.    ,  0.    , 18.295 ],\n",
              "       [67.    ,  1.    ,  2.    ,  1.    ,  9.514 ],\n",
              "       [40.    ,  0.    ,  2.    ,  0.    , 10.103 ],\n",
              "       [32.    ,  0.    ,  0.    ,  1.    , 10.292 ],\n",
              "       [61.    ,  0.    ,  0.    ,  0.    , 25.475 ],\n",
              "       [28.    ,  1.    ,  2.    ,  0.    , 27.064 ],\n",
              "       [15.    ,  1.    ,  0.    ,  1.    , 17.206 ],\n",
              "       [34.    ,  1.    ,  2.    ,  0.    , 22.456 ],\n",
              "       [36.    ,  0.    ,  2.    ,  0.    , 16.753 ],\n",
              "       [53.    ,  0.    ,  0.    ,  1.    , 12.495 ],\n",
              "       [19.    ,  0.    ,  0.    ,  1.    , 25.969 ],\n",
              "       [66.    ,  1.    ,  0.    ,  0.    , 16.347 ],\n",
              "       [35.    ,  1.    ,  2.    ,  1.    ,  7.845 ],\n",
              "       [47.    ,  1.    ,  1.    ,  1.    , 13.9365],\n",
              "       [32.    ,  0.    ,  2.    ,  0.    ,  7.477 ],\n",
              "       [70.    ,  0.    ,  2.    ,  0.    , 20.489 ],\n",
              "       [52.    ,  1.    ,  1.    ,  1.    , 13.9365],\n",
              "       [49.    ,  1.    ,  1.    ,  1.    , 13.598 ],\n",
              "       [24.    ,  1.    ,  2.    ,  0.    , 25.786 ],\n",
              "       [42.    ,  0.    ,  0.    ,  0.    , 21.036 ],\n",
              "       [74.    ,  1.    ,  1.    ,  1.    , 11.939 ],\n",
              "       [55.    ,  0.    ,  0.    ,  0.    , 10.977 ],\n",
              "       [35.    ,  0.    ,  0.    ,  0.    , 12.894 ],\n",
              "       [51.    ,  1.    ,  0.    ,  1.    , 11.343 ],\n",
              "       [69.    ,  0.    ,  2.    ,  0.    , 10.065 ],\n",
              "       [49.    ,  1.    ,  0.    ,  1.    ,  6.269 ],\n",
              "       [64.    ,  0.    ,  1.    ,  1.    , 25.741 ],\n",
              "       [60.    ,  1.    ,  0.    ,  1.    ,  8.621 ],\n",
              "       [74.    ,  1.    ,  0.    ,  1.    , 15.436 ],\n",
              "       [39.    ,  1.    ,  0.    ,  0.    ,  9.664 ],\n",
              "       [61.    ,  1.    ,  2.    ,  0.    ,  9.443 ],\n",
              "       [37.    ,  0.    ,  1.    ,  1.    , 12.006 ],\n",
              "       [26.    ,  0.    ,  0.    ,  1.    , 12.307 ],\n",
              "       [61.    ,  0.    ,  1.    ,  1.    ,  7.34  ],\n",
              "       [22.    ,  1.    ,  1.    ,  0.    ,  8.151 ],\n",
              "       [49.    ,  1.    ,  0.    ,  1.    ,  8.7   ],\n",
              "       [68.    ,  1.    ,  0.    ,  0.    , 11.009 ],\n",
              "       [55.    ,  1.    ,  2.    ,  1.    ,  7.261 ],\n",
              "       [72.    ,  0.    ,  1.    ,  1.    , 14.642 ],\n",
              "       [37.    ,  1.    ,  1.    ,  1.    , 16.724 ],\n",
              "       [49.    ,  1.    ,  1.    ,  0.    , 10.537 ],\n",
              "       [31.    ,  1.    ,  0.    ,  1.    , 11.227 ],\n",
              "       [53.    ,  1.    ,  1.    ,  0.    , 22.963 ],\n",
              "       [59.    ,  0.    ,  1.    ,  0.    , 10.444 ],\n",
              "       [34.    ,  0.    ,  1.    ,  1.    , 12.923 ],\n",
              "       [30.    ,  0.    ,  2.    ,  0.    , 10.443 ],\n",
              "       [57.    ,  0.    ,  0.    ,  1.    ,  9.945 ],\n",
              "       [43.    ,  1.    ,  2.    ,  1.    , 12.859 ],\n",
              "       [21.    ,  0.    ,  0.    ,  1.    , 28.632 ],\n",
              "       [16.    ,  1.    ,  0.    ,  1.    , 19.007 ],\n",
              "       [38.    ,  1.    ,  1.    ,  0.    , 18.295 ],\n",
              "       [58.    ,  0.    ,  1.    ,  0.    , 26.645 ],\n",
              "       [57.    ,  0.    ,  2.    ,  0.    , 14.216 ],\n",
              "       [51.    ,  0.    ,  1.    ,  1.    , 23.003 ],\n",
              "       [20.    ,  0.    ,  0.    ,  0.    , 11.262 ],\n",
              "       [28.    ,  0.    ,  2.    ,  0.    , 12.879 ],\n",
              "       [45.    ,  1.    ,  1.    ,  1.    , 10.017 ],\n",
              "       [39.    ,  0.    ,  2.    ,  1.    , 17.225 ],\n",
              "       [41.    ,  0.    ,  1.    ,  1.    , 18.739 ],\n",
              "       [42.    ,  1.    ,  0.    ,  1.    , 12.766 ],\n",
              "       [73.    ,  0.    ,  0.    ,  0.    , 18.348 ],\n",
              "       [48.    ,  1.    ,  0.    ,  1.    , 10.446 ],\n",
              "       [25.    ,  1.    ,  2.    ,  0.    , 19.011 ],\n",
              "       [39.    ,  1.    ,  2.    ,  0.    , 15.969 ],\n",
              "       [67.    ,  0.    ,  2.    ,  0.    , 15.891 ],\n",
              "       [22.    ,  0.    ,  0.    ,  1.    , 22.818 ],\n",
              "       [59.    ,  0.    ,  2.    ,  0.    , 13.884 ],\n",
              "       [20.    ,  0.    ,  1.    ,  1.    , 11.686 ],\n",
              "       [36.    ,  0.    ,  0.    ,  1.    , 15.49  ],\n",
              "       [18.    ,  0.    ,  0.    ,  0.    , 13.9365],\n",
              "       [57.    ,  0.    ,  2.    ,  1.    , 25.893 ],\n",
              "       [70.    ,  1.    ,  0.    ,  0.    ,  9.849 ],\n",
              "       [47.    ,  1.    ,  0.    ,  0.    , 10.403 ],\n",
              "       [65.    ,  1.    ,  0.    ,  1.    , 13.9365],\n",
              "       [64.    ,  1.    ,  0.    ,  1.    , 20.932 ],\n",
              "       [58.    ,  1.    ,  0.    ,  0.    , 18.991 ],\n",
              "       [23.    ,  1.    ,  0.    ,  0.    ,  8.011 ],\n",
              "       [72.    ,  1.    ,  1.    ,  0.    , 16.31  ],\n",
              "       [72.    ,  1.    ,  1.    ,  0.    ,  6.769 ],\n",
              "       [46.    ,  0.    ,  0.    ,  0.    , 13.9365],\n",
              "       [56.    ,  0.    ,  1.    ,  0.    , 11.567 ],\n",
              "       [16.    ,  1.    ,  1.    ,  0.    , 12.006 ],\n",
              "       [52.    ,  1.    ,  2.    ,  0.    ,  9.894 ],\n",
              "       [23.    ,  1.    ,  2.    ,  1.    , 14.02  ],\n",
              "       [40.    ,  0.    ,  1.    ,  1.    , 11.349 ]])"
            ]
          },
          "metadata": {},
          "execution_count": 547
        }
      ]
    },
    {
      "cell_type": "code",
      "source": [
        "y = pd.get_dummies(y).values\n",
        "y"
      ],
      "metadata": {
        "colab": {
          "base_uri": "https://localhost:8080/"
        },
        "id": "474_QdP6VWf5",
        "outputId": "fc0df406-d1e9-42f0-eff4-b49952ec39e5"
      },
      "execution_count": null,
      "outputs": [
        {
          "output_type": "execute_result",
          "data": {
            "text/plain": [
              "array([[1, 0, 0, 0, 0],\n",
              "       [0, 0, 0, 1, 0],\n",
              "       [0, 0, 0, 1, 0],\n",
              "       [0, 0, 0, 0, 1],\n",
              "       [1, 0, 0, 0, 0],\n",
              "       [0, 0, 0, 0, 1],\n",
              "       [1, 0, 0, 0, 0],\n",
              "       [0, 0, 0, 1, 0],\n",
              "       [1, 0, 0, 0, 0],\n",
              "       [1, 0, 0, 0, 0],\n",
              "       [0, 0, 0, 1, 0],\n",
              "       [1, 0, 0, 0, 0],\n",
              "       [1, 0, 0, 0, 0],\n",
              "       [1, 0, 0, 0, 0],\n",
              "       [0, 0, 0, 0, 1],\n",
              "       [1, 0, 0, 0, 0],\n",
              "       [0, 0, 0, 0, 1],\n",
              "       [0, 1, 0, 0, 0],\n",
              "       [0, 0, 0, 1, 0],\n",
              "       [1, 0, 0, 0, 0],\n",
              "       [1, 0, 0, 0, 0],\n",
              "       [1, 0, 0, 0, 0],\n",
              "       [1, 0, 0, 0, 0],\n",
              "       [1, 0, 0, 0, 0],\n",
              "       [1, 0, 0, 0, 0],\n",
              "       [1, 0, 0, 0, 0],\n",
              "       [1, 0, 0, 0, 0],\n",
              "       [0, 0, 0, 0, 1],\n",
              "       [1, 0, 0, 0, 0],\n",
              "       [1, 0, 0, 0, 0],\n",
              "       [0, 0, 0, 0, 1],\n",
              "       [0, 0, 1, 0, 0],\n",
              "       [0, 0, 0, 0, 1],\n",
              "       [1, 0, 0, 0, 0],\n",
              "       [0, 0, 0, 0, 1],\n",
              "       [0, 0, 0, 0, 1],\n",
              "       [0, 1, 0, 0, 0],\n",
              "       [0, 0, 0, 0, 1],\n",
              "       [0, 0, 0, 0, 1],\n",
              "       [0, 0, 0, 0, 1],\n",
              "       [1, 0, 0, 0, 0],\n",
              "       [0, 0, 1, 0, 0],\n",
              "       [1, 0, 0, 0, 0],\n",
              "       [0, 0, 0, 0, 1],\n",
              "       [0, 0, 0, 0, 1],\n",
              "       [0, 0, 0, 0, 1],\n",
              "       [0, 1, 0, 0, 0],\n",
              "       [0, 0, 0, 1, 0],\n",
              "       [1, 0, 0, 0, 0],\n",
              "       [1, 0, 0, 0, 0],\n",
              "       [1, 0, 0, 0, 0],\n",
              "       [0, 0, 0, 0, 1],\n",
              "       [1, 0, 0, 0, 0],\n",
              "       [1, 0, 0, 0, 0],\n",
              "       [0, 0, 1, 0, 0],\n",
              "       [0, 0, 0, 1, 0],\n",
              "       [0, 0, 1, 0, 0],\n",
              "       [1, 0, 0, 0, 0],\n",
              "       [0, 0, 0, 0, 1],\n",
              "       [1, 0, 0, 0, 0],\n",
              "       [1, 0, 0, 0, 0],\n",
              "       [0, 1, 0, 0, 0],\n",
              "       [1, 0, 0, 0, 0],\n",
              "       [0, 0, 0, 0, 1],\n",
              "       [0, 0, 1, 0, 0],\n",
              "       [1, 0, 0, 0, 0],\n",
              "       [0, 1, 0, 0, 0],\n",
              "       [0, 0, 0, 0, 1],\n",
              "       [1, 0, 0, 0, 0],\n",
              "       [1, 0, 0, 0, 0],\n",
              "       [0, 0, 1, 0, 0],\n",
              "       [1, 0, 0, 0, 0],\n",
              "       [0, 0, 0, 0, 1],\n",
              "       [1, 0, 0, 0, 0],\n",
              "       [1, 0, 0, 0, 0],\n",
              "       [1, 0, 0, 0, 0],\n",
              "       [0, 1, 0, 0, 0],\n",
              "       [1, 0, 0, 0, 0],\n",
              "       [0, 1, 0, 0, 0],\n",
              "       [0, 0, 0, 0, 1],\n",
              "       [0, 0, 1, 0, 0],\n",
              "       [0, 0, 0, 0, 1],\n",
              "       [0, 0, 0, 1, 0],\n",
              "       [0, 1, 0, 0, 0],\n",
              "       [0, 0, 0, 1, 0],\n",
              "       [0, 0, 1, 0, 0],\n",
              "       [0, 0, 0, 0, 1],\n",
              "       [1, 0, 0, 0, 0],\n",
              "       [1, 0, 0, 0, 0],\n",
              "       [1, 0, 0, 0, 0],\n",
              "       [1, 0, 0, 0, 0],\n",
              "       [1, 0, 0, 0, 0],\n",
              "       [1, 0, 0, 0, 0],\n",
              "       [1, 0, 0, 0, 0],\n",
              "       [1, 0, 0, 0, 0],\n",
              "       [0, 0, 0, 0, 1],\n",
              "       [1, 0, 0, 0, 0],\n",
              "       [1, 0, 0, 0, 0],\n",
              "       [1, 0, 0, 0, 0],\n",
              "       [1, 0, 0, 0, 0],\n",
              "       [0, 1, 0, 0, 0],\n",
              "       [0, 1, 0, 0, 0],\n",
              "       [0, 0, 0, 1, 0],\n",
              "       [0, 0, 0, 0, 1],\n",
              "       [1, 0, 0, 0, 0],\n",
              "       [0, 0, 0, 0, 1],\n",
              "       [0, 0, 0, 0, 1],\n",
              "       [1, 0, 0, 0, 0],\n",
              "       [0, 0, 1, 0, 0],\n",
              "       [1, 0, 0, 0, 0],\n",
              "       [0, 1, 0, 0, 0],\n",
              "       [0, 0, 0, 0, 1],\n",
              "       [0, 0, 0, 0, 1],\n",
              "       [0, 0, 0, 0, 1],\n",
              "       [0, 0, 0, 0, 1],\n",
              "       [1, 0, 0, 0, 0],\n",
              "       [0, 0, 0, 0, 1],\n",
              "       [0, 0, 0, 0, 1],\n",
              "       [0, 1, 0, 0, 0],\n",
              "       [1, 0, 0, 0, 0],\n",
              "       [1, 0, 0, 0, 0],\n",
              "       [1, 0, 0, 0, 0],\n",
              "       [1, 0, 0, 0, 0],\n",
              "       [1, 0, 0, 0, 0],\n",
              "       [0, 0, 1, 0, 0],\n",
              "       [1, 0, 0, 0, 0],\n",
              "       [1, 0, 0, 0, 0],\n",
              "       [0, 0, 0, 0, 1],\n",
              "       [1, 0, 0, 0, 0],\n",
              "       [0, 0, 0, 0, 1],\n",
              "       [1, 0, 0, 0, 0],\n",
              "       [1, 0, 0, 0, 0],\n",
              "       [0, 0, 0, 0, 1],\n",
              "       [1, 0, 0, 0, 0],\n",
              "       [1, 0, 0, 0, 0],\n",
              "       [0, 0, 0, 0, 1],\n",
              "       [0, 0, 1, 0, 0],\n",
              "       [0, 1, 0, 0, 0],\n",
              "       [0, 0, 1, 0, 0],\n",
              "       [0, 0, 0, 0, 1],\n",
              "       [0, 1, 0, 0, 0],\n",
              "       [1, 0, 0, 0, 0],\n",
              "       [0, 0, 1, 0, 0],\n",
              "       [1, 0, 0, 0, 0],\n",
              "       [0, 1, 0, 0, 0],\n",
              "       [0, 0, 0, 0, 1],\n",
              "       [0, 0, 0, 0, 1],\n",
              "       [0, 1, 0, 0, 0],\n",
              "       [0, 0, 0, 0, 1],\n",
              "       [0, 0, 0, 1, 0],\n",
              "       [0, 1, 0, 0, 0],\n",
              "       [0, 0, 1, 0, 0],\n",
              "       [0, 0, 0, 0, 1],\n",
              "       [0, 0, 0, 0, 1],\n",
              "       [1, 0, 0, 0, 0],\n",
              "       [0, 0, 0, 1, 0],\n",
              "       [0, 1, 0, 0, 0],\n",
              "       [1, 0, 0, 0, 0],\n",
              "       [0, 0, 0, 1, 0],\n",
              "       [0, 0, 0, 0, 1],\n",
              "       [0, 0, 0, 0, 1],\n",
              "       [0, 0, 1, 0, 0],\n",
              "       [0, 0, 0, 0, 1],\n",
              "       [1, 0, 0, 0, 0],\n",
              "       [1, 0, 0, 0, 0],\n",
              "       [1, 0, 0, 0, 0],\n",
              "       [1, 0, 0, 0, 0],\n",
              "       [0, 0, 0, 0, 1],\n",
              "       [1, 0, 0, 0, 0],\n",
              "       [0, 1, 0, 0, 0],\n",
              "       [0, 0, 0, 0, 1],\n",
              "       [0, 0, 0, 0, 1],\n",
              "       [1, 0, 0, 0, 0],\n",
              "       [1, 0, 0, 0, 0],\n",
              "       [0, 1, 0, 0, 0],\n",
              "       [1, 0, 0, 0, 0],\n",
              "       [0, 1, 0, 0, 0],\n",
              "       [1, 0, 0, 0, 0],\n",
              "       [1, 0, 0, 0, 0],\n",
              "       [1, 0, 0, 0, 0],\n",
              "       [1, 0, 0, 0, 0],\n",
              "       [0, 0, 0, 0, 1],\n",
              "       [0, 0, 0, 0, 1],\n",
              "       [1, 0, 0, 0, 0],\n",
              "       [1, 0, 0, 0, 0],\n",
              "       [1, 0, 0, 0, 0],\n",
              "       [0, 0, 1, 0, 0],\n",
              "       [0, 1, 0, 0, 0],\n",
              "       [1, 0, 0, 0, 0],\n",
              "       [1, 0, 0, 0, 0],\n",
              "       [1, 0, 0, 0, 0],\n",
              "       [0, 1, 0, 0, 0],\n",
              "       [1, 0, 0, 0, 0],\n",
              "       [0, 0, 0, 1, 0],\n",
              "       [1, 0, 0, 0, 0],\n",
              "       [0, 0, 0, 1, 0],\n",
              "       [0, 0, 0, 1, 0],\n",
              "       [0, 0, 0, 0, 1],\n",
              "       [0, 0, 0, 0, 1],\n",
              "       [0, 0, 0, 0, 1]], dtype=uint8)"
            ]
          },
          "metadata": {},
          "execution_count": 548
        }
      ]
    },
    {
      "cell_type": "markdown",
      "source": [
        "###Splitting Data into Training and Testing Data"
      ],
      "metadata": {
        "id": "QeZLHw0RbsqE"
      }
    },
    {
      "cell_type": "code",
      "source": [
        "from sklearn.model_selection import train_test_split"
      ],
      "metadata": {
        "id": "Iy1oBvXszNgt"
      },
      "execution_count": null,
      "outputs": []
    },
    {
      "cell_type": "code",
      "source": [
        "xtrain,xtest,ytrain,ytest = train_test_split(x,y,test_size=0.2,random_state=12)"
      ],
      "metadata": {
        "id": "fBZeROVqEAzM"
      },
      "execution_count": null,
      "outputs": []
    },
    {
      "cell_type": "code",
      "source": [
        "xtrain"
      ],
      "metadata": {
        "colab": {
          "base_uri": "https://localhost:8080/"
        },
        "id": "N77cl9e8EX6M",
        "outputId": "f8cf48be-1c4c-4405-e296-e72eca80e3aa"
      },
      "execution_count": null,
      "outputs": [
        {
          "output_type": "execute_result",
          "data": {
            "text/plain": [
              "array([[26.    ,  0.    ,  0.    ,  1.    , 19.161 ],\n",
              "       [68.    ,  1.    ,  1.    ,  0.    , 10.291 ],\n",
              "       [56.    ,  1.    ,  1.    ,  0.    , 15.015 ],\n",
              "       [50.    ,  0.    ,  2.    ,  0.    , 12.703 ],\n",
              "       [58.    ,  0.    ,  0.    ,  1.    , 14.239 ],\n",
              "       [19.    ,  0.    ,  0.    ,  1.    , 25.969 ],\n",
              "       [43.    ,  1.    ,  1.    ,  0.    , 15.376 ],\n",
              "       [52.    ,  1.    ,  1.    ,  1.    , 13.9365],\n",
              "       [74.    ,  1.    ,  1.    ,  1.    , 11.939 ],\n",
              "       [33.    ,  0.    ,  1.    ,  0.    , 13.9365],\n",
              "       [60.    ,  1.    ,  2.    ,  0.    , 15.171 ],\n",
              "       [73.    ,  0.    ,  2.    ,  0.    , 19.221 ],\n",
              "       [18.    ,  0.    ,  0.    ,  0.    , 13.9365],\n",
              "       [35.    ,  1.    ,  2.    ,  1.    ,  7.845 ],\n",
              "       [66.    ,  0.    ,  2.    ,  1.    ,  8.107 ],\n",
              "       [60.    ,  1.    ,  0.    ,  1.    ,  8.621 ],\n",
              "       [65.    ,  0.    ,  0.    ,  1.    , 31.876 ],\n",
              "       [22.    ,  1.    ,  1.    ,  0.    ,  8.151 ],\n",
              "       [16.    ,  0.    ,  0.    ,  1.    , 15.516 ],\n",
              "       [56.    ,  0.    ,  1.    ,  0.    , 11.567 ],\n",
              "       [67.    ,  1.    ,  1.    ,  1.    , 20.693 ],\n",
              "       [49.    ,  0.    ,  2.    ,  0.    , 16.275 ],\n",
              "       [40.    ,  0.    ,  1.    ,  1.    , 11.349 ],\n",
              "       [53.    ,  0.    ,  0.    ,  1.    , 12.495 ],\n",
              "       [61.    ,  1.    ,  2.    ,  0.    ,  9.443 ],\n",
              "       [15.    ,  1.    ,  2.    ,  0.    ,  9.084 ],\n",
              "       [50.    ,  1.    ,  2.    ,  1.    , 15.79  ],\n",
              "       [62.    ,  1.    ,  2.    ,  0.    , 16.594 ],\n",
              "       [43.    ,  1.    ,  0.    ,  0.    , 13.972 ],\n",
              "       [58.    ,  0.    ,  0.    ,  0.    , 19.416 ],\n",
              "       [53.    ,  1.    ,  2.    ,  0.    , 14.133 ],\n",
              "       [29.    ,  1.    ,  0.    ,  0.    , 12.856 ],\n",
              "       [58.    ,  1.    ,  0.    ,  0.    , 18.991 ],\n",
              "       [39.    ,  1.    ,  1.    ,  1.    , 13.938 ],\n",
              "       [39.    ,  0.    ,  2.    ,  1.    ,  9.709 ],\n",
              "       [51.    ,  0.    ,  2.    ,  0.    , 13.597 ],\n",
              "       [60.    ,  0.    ,  0.    ,  0.    , 13.303 ],\n",
              "       [49.    ,  1.    ,  0.    ,  1.    ,  6.269 ],\n",
              "       [32.    ,  0.    ,  0.    ,  1.    , 25.974 ],\n",
              "       [45.    ,  1.    ,  1.    ,  1.    , 10.017 ],\n",
              "       [28.    ,  0.    ,  2.    ,  0.    , 12.879 ],\n",
              "       [64.    ,  1.    ,  2.    ,  0.    ,  7.761 ],\n",
              "       [74.    ,  1.    ,  0.    ,  1.    , 15.436 ],\n",
              "       [66.    ,  1.    ,  0.    ,  0.    , 16.347 ],\n",
              "       [34.    ,  0.    ,  1.    ,  1.    , 12.923 ],\n",
              "       [47.    ,  1.    ,  0.    ,  0.    , 10.403 ],\n",
              "       [56.    ,  1.    ,  2.    ,  0.    ,  8.966 ],\n",
              "       [19.    ,  0.    ,  0.    ,  0.    , 13.313 ],\n",
              "       [34.    ,  1.    ,  2.    ,  0.    , 22.456 ],\n",
              "       [31.    ,  1.    ,  0.    ,  1.    , 11.227 ],\n",
              "       [29.    ,  0.    ,  0.    ,  0.    , 29.45  ],\n",
              "       [31.    ,  1.    ,  0.    ,  0.    , 30.366 ],\n",
              "       [24.    ,  0.    ,  2.    ,  0.    , 10.605 ],\n",
              "       [38.    ,  0.    ,  0.    ,  1.    , 11.326 ],\n",
              "       [46.    ,  0.    ,  0.    ,  0.    , 13.9365],\n",
              "       [47.    ,  0.    ,  1.    ,  0.    , 11.767 ],\n",
              "       [37.    ,  0.    ,  0.    ,  0.    , 13.091 ],\n",
              "       [32.    ,  1.    ,  0.    ,  1.    ,  9.445 ],\n",
              "       [23.    ,  1.    ,  0.    ,  0.    ,  8.011 ],\n",
              "       [18.    ,  0.    ,  2.    ,  1.    ,  8.75  ],\n",
              "       [20.    ,  0.    ,  0.    ,  0.    , 11.262 ],\n",
              "       [28.    ,  0.    ,  2.    ,  0.    , 19.675 ],\n",
              "       [39.    ,  1.    ,  2.    ,  0.    , 15.969 ],\n",
              "       [72.    ,  0.    ,  1.    ,  1.    , 14.642 ],\n",
              "       [62.    ,  1.    ,  1.    ,  1.    , 27.183 ],\n",
              "       [35.    ,  0.    ,  0.    ,  0.    , 12.894 ],\n",
              "       [23.    ,  1.    ,  2.    ,  0.    , 31.686 ],\n",
              "       [70.    ,  1.    ,  0.    ,  0.    ,  9.849 ],\n",
              "       [47.    ,  1.    ,  1.    ,  0.    , 10.114 ],\n",
              "       [39.    ,  0.    ,  1.    ,  1.    , 22.697 ],\n",
              "       [72.    ,  1.    ,  1.    ,  0.    ,  6.769 ],\n",
              "       [26.    ,  0.    ,  0.    ,  1.    , 12.307 ],\n",
              "       [43.    ,  1.    ,  1.    ,  1.    , 19.368 ],\n",
              "       [22.    ,  1.    ,  2.    ,  0.    , 11.953 ],\n",
              "       [18.    ,  0.    ,  0.    ,  1.    , 24.276 ],\n",
              "       [72.    ,  1.    ,  1.    ,  0.    , 16.31  ],\n",
              "       [53.    ,  1.    ,  1.    ,  0.    , 22.963 ],\n",
              "       [73.    ,  0.    ,  0.    ,  0.    , 18.348 ],\n",
              "       [23.    ,  1.    ,  2.    ,  1.    , 14.02  ],\n",
              "       [56.    ,  0.    ,  0.    ,  0.    , 25.395 ],\n",
              "       [47.    ,  0.    ,  2.    ,  1.    ,  6.683 ],\n",
              "       [28.    ,  0.    ,  1.    ,  0.    , 13.127 ],\n",
              "       [38.    ,  1.    ,  1.    ,  0.    , 18.295 ],\n",
              "       [68.    ,  0.    ,  0.    ,  1.    , 10.189 ],\n",
              "       [40.    ,  1.    ,  0.    ,  0.    , 27.826 ],\n",
              "       [69.    ,  1.    ,  1.    ,  0.    , 15.478 ],\n",
              "       [49.    ,  1.    ,  0.    ,  1.    ,  8.7   ],\n",
              "       [17.    ,  1.    ,  2.    ,  1.    , 10.832 ],\n",
              "       [60.    ,  1.    ,  0.    ,  0.    , 13.934 ],\n",
              "       [35.    ,  1.    ,  1.    ,  1.    ,  9.17  ],\n",
              "       [23.    ,  0.    ,  0.    ,  0.    , 25.355 ],\n",
              "       [61.    ,  0.    ,  1.    ,  1.    ,  7.34  ],\n",
              "       [37.    ,  1.    ,  1.    ,  1.    , 16.724 ],\n",
              "       [25.    ,  1.    ,  2.    ,  0.    , 19.011 ],\n",
              "       [41.    ,  1.    ,  0.    ,  1.    , 15.156 ],\n",
              "       [20.    ,  0.    ,  2.    ,  1.    ,  9.281 ],\n",
              "       [68.    ,  1.    ,  0.    ,  0.    , 11.009 ],\n",
              "       [67.    ,  1.    ,  2.    ,  1.    ,  9.514 ],\n",
              "       [39.    ,  1.    ,  0.    ,  0.    ,  9.664 ],\n",
              "       [23.    ,  1.    ,  1.    ,  0.    ,  7.298 ],\n",
              "       [65.    ,  1.    ,  0.    ,  1.    , 13.9365],\n",
              "       [23.    ,  1.    ,  2.    ,  0.    , 12.26  ],\n",
              "       [37.    ,  1.    ,  1.    ,  1.    ,  8.968 ],\n",
              "       [57.    ,  1.    ,  1.    ,  1.    , 19.128 ],\n",
              "       [15.    ,  1.    ,  0.    ,  1.    , 17.206 ],\n",
              "       [15.    ,  0.    ,  0.    ,  1.    , 16.725 ],\n",
              "       [47.    ,  0.    ,  1.    ,  0.    , 10.067 ],\n",
              "       [34.    ,  1.    ,  0.    ,  0.    , 18.703 ],\n",
              "       [60.    ,  1.    ,  2.    ,  1.    , 10.091 ],\n",
              "       [16.    ,  1.    ,  1.    ,  0.    , 12.006 ],\n",
              "       [51.    ,  0.    ,  1.    ,  1.    , 23.003 ],\n",
              "       [70.    ,  1.    ,  0.    ,  0.    , 13.967 ],\n",
              "       [38.    ,  0.    ,  1.    ,  1.    , 29.875 ],\n",
              "       [42.    ,  1.    ,  1.    ,  0.    , 20.013 ],\n",
              "       [24.    ,  0.    ,  0.    ,  1.    , 18.457 ],\n",
              "       [54.    ,  1.    ,  2.    ,  0.    , 24.658 ],\n",
              "       [51.    ,  1.    ,  0.    ,  0.    , 18.295 ],\n",
              "       [50.    ,  0.    ,  2.    ,  1.    , 12.295 ],\n",
              "       [68.    ,  0.    ,  2.    ,  1.    , 27.05  ],\n",
              "       [61.    ,  0.    ,  1.    ,  0.    , 18.043 ],\n",
              "       [65.    ,  1.    ,  0.    ,  1.    , 11.34  ],\n",
              "       [28.    ,  0.    ,  0.    ,  1.    , 18.809 ],\n",
              "       [32.    ,  0.    ,  1.    ,  1.    , 10.84  ],\n",
              "       [49.    ,  0.    ,  2.    ,  1.    ,  9.381 ],\n",
              "       [50.    ,  1.    ,  0.    ,  0.    ,  7.49  ],\n",
              "       [30.    ,  0.    ,  2.    ,  0.    , 10.443 ],\n",
              "       [42.    ,  1.    ,  0.    ,  1.    , 12.766 ],\n",
              "       [41.    ,  0.    ,  2.    ,  1.    , 22.905 ],\n",
              "       [23.    ,  1.    ,  2.    ,  0.    , 16.85  ],\n",
              "       [36.    ,  0.    ,  2.    ,  0.    , 16.753 ],\n",
              "       [52.    ,  1.    ,  2.    ,  0.    ,  9.894 ],\n",
              "       [37.    ,  0.    ,  1.    ,  1.    , 12.006 ],\n",
              "       [58.    ,  0.    ,  1.    ,  0.    , 13.9365],\n",
              "       [61.    ,  0.    ,  0.    ,  0.    , 25.475 ],\n",
              "       [59.    ,  0.    ,  1.    ,  0.    , 10.444 ],\n",
              "       [57.    ,  0.    ,  0.    ,  1.    ,  9.945 ],\n",
              "       [21.    ,  0.    ,  0.    ,  1.    , 28.632 ],\n",
              "       [31.    ,  1.    ,  0.    ,  1.    , 11.871 ],\n",
              "       [46.    ,  1.    ,  2.    ,  1.    ,  7.285 ],\n",
              "       [50.    ,  0.    ,  2.    ,  1.    , 17.211 ],\n",
              "       [32.    ,  0.    ,  1.    ,  0.    ,  9.712 ],\n",
              "       [74.    ,  0.    ,  1.    ,  0.    , 20.942 ],\n",
              "       [22.    ,  1.    ,  0.    ,  1.    , 28.294 ],\n",
              "       [40.    ,  0.    ,  2.    ,  0.    , 10.103 ],\n",
              "       [47.    ,  1.    ,  1.    ,  1.    , 13.9365],\n",
              "       [31.    ,  1.    ,  0.    ,  1.    , 17.069 ],\n",
              "       [32.    ,  0.    ,  0.    ,  1.    , 10.292 ],\n",
              "       [43.    ,  1.    ,  2.    ,  1.    , 12.859 ],\n",
              "       [64.    ,  0.    ,  1.    ,  1.    , 25.741 ],\n",
              "       [24.    ,  1.    ,  2.    ,  0.    , 25.786 ],\n",
              "       [22.    ,  0.    ,  0.    ,  1.    , 22.818 ],\n",
              "       [28.    ,  0.    ,  1.    ,  0.    , 19.796 ],\n",
              "       [47.    ,  1.    ,  1.    ,  1.    , 30.568 ],\n",
              "       [48.    ,  1.    ,  0.    ,  1.    , 10.446 ],\n",
              "       [36.    ,  0.    ,  0.    ,  0.    , 11.198 ],\n",
              "       [28.    ,  0.    ,  2.    ,  0.    ,  7.798 ],\n",
              "       [70.    ,  0.    ,  2.    ,  0.    , 20.489 ],\n",
              "       [42.    ,  0.    ,  0.    ,  0.    , 21.036 ],\n",
              "       [49.    ,  1.    ,  1.    ,  0.    , 10.537 ],\n",
              "       [26.    ,  1.    ,  1.    ,  1.    , 20.909 ]])"
            ]
          },
          "metadata": {},
          "execution_count": 551
        }
      ]
    },
    {
      "cell_type": "code",
      "source": [
        "xtest"
      ],
      "metadata": {
        "colab": {
          "base_uri": "https://localhost:8080/"
        },
        "id": "oEWz1WHxEatl",
        "outputId": "e2842a5b-1abe-46a0-b222-d60b5e47ed48"
      },
      "execution_count": null,
      "outputs": [
        {
          "output_type": "execute_result",
          "data": {
            "text/plain": [
              "array([[48.    ,  0.    ,  1.    ,  0.    , 15.036 ],\n",
              "       [20.    ,  0.    ,  1.    ,  1.    , 11.686 ],\n",
              "       [39.    ,  0.    ,  2.    ,  1.    , 17.225 ],\n",
              "       [63.    ,  1.    ,  2.    ,  0.    , 25.917 ],\n",
              "       [45.    ,  1.    ,  1.    ,  1.    ,  8.37  ],\n",
              "       [34.    ,  0.    ,  0.    ,  1.    , 19.199 ],\n",
              "       [24.    ,  1.    ,  0.    ,  1.    ,  9.475 ],\n",
              "       [49.    ,  1.    ,  1.    ,  1.    , 11.014 ],\n",
              "       [16.    ,  1.    ,  0.    ,  1.    , 19.007 ],\n",
              "       [41.    ,  1.    ,  1.    ,  0.    , 11.037 ],\n",
              "       [36.    ,  1.    ,  1.    ,  1.    , 11.424 ],\n",
              "       [41.    ,  0.    ,  1.    ,  1.    , 18.739 ],\n",
              "       [49.    ,  1.    ,  1.    ,  1.    , 13.598 ],\n",
              "       [28.    ,  1.    ,  2.    ,  0.    , 27.064 ],\n",
              "       [20.    ,  1.    ,  0.    ,  1.    , 13.9365],\n",
              "       [51.    ,  1.    ,  0.    ,  1.    , 11.343 ],\n",
              "       [74.    ,  1.    ,  0.    ,  0.    ,  9.567 ],\n",
              "       [69.    ,  1.    ,  1.    ,  1.    , 11.455 ],\n",
              "       [59.    ,  0.    ,  2.    ,  0.    , 13.884 ],\n",
              "       [59.    ,  1.    ,  0.    ,  0.    , 13.935 ],\n",
              "       [57.    ,  0.    ,  2.    ,  1.    , 25.893 ],\n",
              "       [58.    ,  0.    ,  1.    ,  0.    , 26.645 ],\n",
              "       [45.    ,  0.    ,  0.    ,  0.    , 12.854 ],\n",
              "       [32.    ,  0.    ,  2.    ,  0.    ,  7.477 ],\n",
              "       [65.    ,  0.    ,  1.    ,  1.    , 13.769 ],\n",
              "       [67.    ,  1.    ,  2.    ,  1.    , 10.898 ],\n",
              "       [57.    ,  0.    ,  2.    ,  0.    , 14.216 ],\n",
              "       [37.    ,  0.    ,  0.    ,  1.    , 23.091 ],\n",
              "       [72.    ,  1.    ,  0.    ,  1.    ,  9.677 ],\n",
              "       [55.    ,  0.    ,  0.    ,  0.    , 10.977 ],\n",
              "       [45.    ,  1.    ,  1.    ,  0.    , 17.951 ],\n",
              "       [36.    ,  0.    ,  0.    ,  1.    , 15.49  ],\n",
              "       [55.    ,  1.    ,  2.    ,  1.    ,  7.261 ],\n",
              "       [42.    ,  0.    ,  1.    ,  1.    , 29.271 ],\n",
              "       [64.    ,  1.    ,  0.    ,  1.    , 20.932 ],\n",
              "       [69.    ,  0.    ,  2.    ,  0.    , 10.065 ],\n",
              "       [67.    ,  0.    ,  2.    ,  0.    , 15.891 ],\n",
              "       [26.    ,  0.    ,  1.    ,  0.    , 14.16  ],\n",
              "       [47.    ,  1.    ,  1.    ,  0.    , 13.093 ],\n",
              "       [22.    ,  0.    ,  2.    ,  0.    ,  8.607 ]])"
            ]
          },
          "metadata": {},
          "execution_count": 552
        }
      ]
    },
    {
      "cell_type": "code",
      "source": [
        "ytrain"
      ],
      "metadata": {
        "colab": {
          "base_uri": "https://localhost:8080/"
        },
        "id": "UduPlmHBEcyr",
        "outputId": "9ebbf0a3-e688-4d1d-f0dc-5d4a49ac3057"
      },
      "execution_count": null,
      "outputs": [
        {
          "output_type": "execute_result",
          "data": {
            "text/plain": [
              "array([[1, 0, 0, 0, 0],\n",
              "       [0, 0, 0, 1, 0],\n",
              "       [1, 0, 0, 0, 0],\n",
              "       [0, 0, 0, 0, 1],\n",
              "       [0, 0, 1, 0, 0],\n",
              "       [1, 0, 0, 0, 0],\n",
              "       [1, 0, 0, 0, 0],\n",
              "       [1, 0, 0, 0, 0],\n",
              "       [0, 0, 0, 0, 1],\n",
              "       [1, 0, 0, 0, 0],\n",
              "       [1, 0, 0, 0, 0],\n",
              "       [1, 0, 0, 0, 0],\n",
              "       [1, 0, 0, 0, 0],\n",
              "       [0, 0, 0, 0, 1],\n",
              "       [0, 0, 0, 0, 1],\n",
              "       [0, 0, 1, 0, 0],\n",
              "       [1, 0, 0, 0, 0],\n",
              "       [0, 0, 0, 1, 0],\n",
              "       [1, 0, 0, 0, 0],\n",
              "       [0, 0, 0, 1, 0],\n",
              "       [1, 0, 0, 0, 0],\n",
              "       [1, 0, 0, 0, 0],\n",
              "       [0, 0, 0, 0, 1],\n",
              "       [0, 0, 1, 0, 0],\n",
              "       [0, 0, 0, 0, 1],\n",
              "       [0, 0, 0, 0, 1],\n",
              "       [1, 0, 0, 0, 0],\n",
              "       [1, 0, 0, 0, 0],\n",
              "       [0, 1, 0, 0, 0],\n",
              "       [1, 0, 0, 0, 0],\n",
              "       [0, 0, 0, 0, 1],\n",
              "       [0, 1, 0, 0, 0],\n",
              "       [1, 0, 0, 0, 0],\n",
              "       [0, 0, 0, 0, 1],\n",
              "       [0, 0, 0, 0, 1],\n",
              "       [0, 0, 0, 0, 1],\n",
              "       [0, 0, 1, 0, 0],\n",
              "       [0, 1, 0, 0, 0],\n",
              "       [1, 0, 0, 0, 0],\n",
              "       [0, 0, 0, 0, 1],\n",
              "       [0, 0, 0, 0, 1],\n",
              "       [0, 0, 0, 0, 1],\n",
              "       [1, 0, 0, 0, 0],\n",
              "       [1, 0, 0, 0, 0],\n",
              "       [0, 0, 0, 0, 1],\n",
              "       [0, 1, 0, 0, 0],\n",
              "       [0, 0, 0, 0, 1],\n",
              "       [0, 1, 0, 0, 0],\n",
              "       [1, 0, 0, 0, 0],\n",
              "       [0, 1, 0, 0, 0],\n",
              "       [1, 0, 0, 0, 0],\n",
              "       [1, 0, 0, 0, 0],\n",
              "       [0, 0, 0, 0, 1],\n",
              "       [0, 1, 0, 0, 0],\n",
              "       [1, 0, 0, 0, 0],\n",
              "       [0, 0, 0, 1, 0],\n",
              "       [0, 1, 0, 0, 0],\n",
              "       [0, 1, 0, 0, 0],\n",
              "       [0, 1, 0, 0, 0],\n",
              "       [0, 0, 0, 0, 1],\n",
              "       [0, 1, 0, 0, 0],\n",
              "       [1, 0, 0, 0, 0],\n",
              "       [1, 0, 0, 0, 0],\n",
              "       [0, 0, 0, 0, 1],\n",
              "       [1, 0, 0, 0, 0],\n",
              "       [0, 1, 0, 0, 0],\n",
              "       [1, 0, 0, 0, 0],\n",
              "       [0, 0, 1, 0, 0],\n",
              "       [0, 0, 0, 1, 0],\n",
              "       [1, 0, 0, 0, 0],\n",
              "       [0, 0, 0, 1, 0],\n",
              "       [0, 1, 0, 0, 0],\n",
              "       [1, 0, 0, 0, 0],\n",
              "       [0, 0, 0, 0, 1],\n",
              "       [1, 0, 0, 0, 0],\n",
              "       [1, 0, 0, 0, 0],\n",
              "       [1, 0, 0, 0, 0],\n",
              "       [1, 0, 0, 0, 0],\n",
              "       [0, 0, 0, 0, 1],\n",
              "       [1, 0, 0, 0, 0],\n",
              "       [0, 0, 0, 0, 1],\n",
              "       [0, 0, 0, 1, 0],\n",
              "       [1, 0, 0, 0, 0],\n",
              "       [0, 0, 1, 0, 0],\n",
              "       [1, 0, 0, 0, 0],\n",
              "       [1, 0, 0, 0, 0],\n",
              "       [0, 1, 0, 0, 0],\n",
              "       [0, 0, 0, 0, 1],\n",
              "       [0, 0, 1, 0, 0],\n",
              "       [0, 0, 0, 0, 1],\n",
              "       [1, 0, 0, 0, 0],\n",
              "       [0, 0, 0, 0, 1],\n",
              "       [1, 0, 0, 0, 0],\n",
              "       [1, 0, 0, 0, 0],\n",
              "       [1, 0, 0, 0, 0],\n",
              "       [0, 0, 0, 0, 1],\n",
              "       [0, 0, 1, 0, 0],\n",
              "       [0, 0, 0, 0, 1],\n",
              "       [0, 1, 0, 0, 0],\n",
              "       [0, 0, 0, 1, 0],\n",
              "       [1, 0, 0, 0, 0],\n",
              "       [0, 0, 0, 0, 1],\n",
              "       [0, 0, 0, 0, 1],\n",
              "       [1, 0, 0, 0, 0],\n",
              "       [1, 0, 0, 0, 0],\n",
              "       [1, 0, 0, 0, 0],\n",
              "       [0, 0, 0, 1, 0],\n",
              "       [1, 0, 0, 0, 0],\n",
              "       [0, 0, 0, 0, 1],\n",
              "       [0, 0, 0, 1, 0],\n",
              "       [1, 0, 0, 0, 0],\n",
              "       [0, 0, 1, 0, 0],\n",
              "       [1, 0, 0, 0, 0],\n",
              "       [1, 0, 0, 0, 0],\n",
              "       [1, 0, 0, 0, 0],\n",
              "       [1, 0, 0, 0, 0],\n",
              "       [1, 0, 0, 0, 0],\n",
              "       [0, 0, 0, 0, 1],\n",
              "       [1, 0, 0, 0, 0],\n",
              "       [1, 0, 0, 0, 0],\n",
              "       [0, 0, 1, 0, 0],\n",
              "       [1, 0, 0, 0, 0],\n",
              "       [0, 0, 0, 0, 1],\n",
              "       [0, 0, 0, 0, 1],\n",
              "       [0, 1, 0, 0, 0],\n",
              "       [0, 0, 0, 0, 1],\n",
              "       [0, 1, 0, 0, 0],\n",
              "       [1, 0, 0, 0, 0],\n",
              "       [1, 0, 0, 0, 0],\n",
              "       [1, 0, 0, 0, 0],\n",
              "       [0, 0, 0, 0, 1],\n",
              "       [0, 0, 0, 0, 1],\n",
              "       [1, 0, 0, 0, 0],\n",
              "       [1, 0, 0, 0, 0],\n",
              "       [0, 0, 0, 1, 0],\n",
              "       [0, 0, 1, 0, 0],\n",
              "       [1, 0, 0, 0, 0],\n",
              "       [0, 1, 0, 0, 0],\n",
              "       [0, 0, 0, 0, 1],\n",
              "       [1, 0, 0, 0, 0],\n",
              "       [0, 0, 0, 1, 0],\n",
              "       [1, 0, 0, 0, 0],\n",
              "       [1, 0, 0, 0, 0],\n",
              "       [0, 0, 0, 0, 1],\n",
              "       [1, 0, 0, 0, 0],\n",
              "       [1, 0, 0, 0, 0],\n",
              "       [0, 1, 0, 0, 0],\n",
              "       [0, 0, 0, 0, 1],\n",
              "       [1, 0, 0, 0, 0],\n",
              "       [1, 0, 0, 0, 0],\n",
              "       [1, 0, 0, 0, 0],\n",
              "       [1, 0, 0, 0, 0],\n",
              "       [1, 0, 0, 0, 0],\n",
              "       [0, 1, 0, 0, 0],\n",
              "       [0, 1, 0, 0, 0],\n",
              "       [0, 0, 0, 0, 1],\n",
              "       [1, 0, 0, 0, 0],\n",
              "       [1, 0, 0, 0, 0],\n",
              "       [0, 0, 0, 1, 0],\n",
              "       [1, 0, 0, 0, 0]], dtype=uint8)"
            ]
          },
          "metadata": {},
          "execution_count": 553
        }
      ]
    },
    {
      "cell_type": "code",
      "source": [
        "ytest"
      ],
      "metadata": {
        "colab": {
          "base_uri": "https://localhost:8080/"
        },
        "id": "Q9xE746yEgyj",
        "outputId": "6472a45e-fdb3-4680-8b2c-de8827693b6a"
      },
      "execution_count": null,
      "outputs": [
        {
          "output_type": "execute_result",
          "data": {
            "text/plain": [
              "array([[1, 0, 0, 0, 0],\n",
              "       [0, 0, 0, 0, 1],\n",
              "       [1, 0, 0, 0, 0],\n",
              "       [1, 0, 0, 0, 0],\n",
              "       [0, 0, 0, 0, 1],\n",
              "       [1, 0, 0, 0, 0],\n",
              "       [0, 1, 0, 0, 0],\n",
              "       [0, 0, 0, 0, 1],\n",
              "       [1, 0, 0, 0, 0],\n",
              "       [0, 0, 0, 1, 0],\n",
              "       [0, 0, 0, 0, 1],\n",
              "       [1, 0, 0, 0, 0],\n",
              "       [0, 0, 0, 0, 1],\n",
              "       [1, 0, 0, 0, 0],\n",
              "       [1, 0, 0, 0, 0],\n",
              "       [0, 0, 1, 0, 0],\n",
              "       [0, 0, 1, 0, 0],\n",
              "       [0, 0, 0, 0, 1],\n",
              "       [0, 0, 0, 0, 1],\n",
              "       [0, 0, 1, 0, 0],\n",
              "       [1, 0, 0, 0, 0],\n",
              "       [1, 0, 0, 0, 0],\n",
              "       [0, 1, 0, 0, 0],\n",
              "       [0, 0, 0, 0, 1],\n",
              "       [0, 0, 0, 0, 1],\n",
              "       [0, 0, 0, 0, 1],\n",
              "       [0, 0, 0, 0, 1],\n",
              "       [1, 0, 0, 0, 0],\n",
              "       [0, 0, 1, 0, 0],\n",
              "       [0, 0, 1, 0, 0],\n",
              "       [1, 0, 0, 0, 0],\n",
              "       [1, 0, 0, 0, 0],\n",
              "       [0, 0, 0, 0, 1],\n",
              "       [1, 0, 0, 0, 0],\n",
              "       [1, 0, 0, 0, 0],\n",
              "       [0, 0, 0, 0, 1],\n",
              "       [1, 0, 0, 0, 0],\n",
              "       [0, 0, 0, 1, 0],\n",
              "       [0, 0, 0, 1, 0],\n",
              "       [0, 0, 0, 0, 1]], dtype=uint8)"
            ]
          },
          "metadata": {},
          "execution_count": 554
        }
      ]
    },
    {
      "cell_type": "markdown",
      "source": [
        "#Task 2 : Build the ANN model with (input layer, min 3 hidden layers & output layer)\n"
      ],
      "metadata": {
        "id": "8wyDgG4BIDAs"
      }
    },
    {
      "cell_type": "markdown",
      "source": [
        "##Importing necessary libraries"
      ],
      "metadata": {
        "id": "gqVXH8pTIw1y"
      }
    },
    {
      "cell_type": "code",
      "source": [
        "from tensorflow.keras.models import Sequential\n",
        "from tensorflow.keras.layers import Dense"
      ],
      "metadata": {
        "id": "fCqk9wOQIKE6"
      },
      "execution_count": null,
      "outputs": []
    },
    {
      "cell_type": "markdown",
      "source": [
        "##Creating the skeleton or model"
      ],
      "metadata": {
        "id": "GfXtWAxUIzJR"
      }
    },
    {
      "cell_type": "code",
      "source": [
        "model = Sequential()\n",
        "#Input Layer\n",
        "model.add(Dense(5,activation='relu'))\n",
        "#Hidden Layer\n",
        "model.add(Dense(100,activation='relu')) # 1st Hidden Layer\n",
        "model.add(Dense(80,activation='relu'))  # 2nd Hidden Layer\n",
        "model.add(Dense(40,activation='relu'))  # 3rd Hidden Layer\n",
        "model.add(Dense(20,activation='relu'))  # 4th Hidden Layer\n",
        "#Output Layer\n",
        "model.add(Dense(5,activation='softmax'))"
      ],
      "metadata": {
        "id": "1c9wtHxgIqrq"
      },
      "execution_count": null,
      "outputs": []
    },
    {
      "cell_type": "code",
      "source": [
        "model.compile(optimizer='adam',loss='categorical_crossentropy',metrics=['accuracy'])"
      ],
      "metadata": {
        "id": "l3GXi_QMKknp"
      },
      "execution_count": null,
      "outputs": []
    },
    {
      "cell_type": "code",
      "source": [
        "model.fit(xtrain,ytrain,batch_size=5,epochs=20,validation_data=(xtest,ytest) )"
      ],
      "metadata": {
        "colab": {
          "base_uri": "https://localhost:8080/"
        },
        "id": "Vc15K-4nLUZo",
        "outputId": "9ad61c57-e7a4-4a2b-99da-5d2c869b74fb"
      },
      "execution_count": null,
      "outputs": [
        {
          "output_type": "stream",
          "name": "stdout",
          "text": [
            "Epoch 1/20\n",
            "32/32 [==============================] - 5s 20ms/step - loss: 2.1128 - accuracy: 0.3938 - val_loss: 1.4489 - val_accuracy: 0.3500\n",
            "Epoch 2/20\n",
            "32/32 [==============================] - 0s 14ms/step - loss: 1.4270 - accuracy: 0.4375 - val_loss: 1.5204 - val_accuracy: 0.4000\n",
            "Epoch 3/20\n",
            "32/32 [==============================] - 0s 12ms/step - loss: 1.3990 - accuracy: 0.4688 - val_loss: 1.3721 - val_accuracy: 0.4000\n",
            "Epoch 4/20\n",
            "32/32 [==============================] - 0s 12ms/step - loss: 1.3819 - accuracy: 0.4875 - val_loss: 1.7557 - val_accuracy: 0.4000\n",
            "Epoch 5/20\n",
            "32/32 [==============================] - 0s 10ms/step - loss: 1.4053 - accuracy: 0.4437 - val_loss: 1.4176 - val_accuracy: 0.4000\n",
            "Epoch 6/20\n",
            "32/32 [==============================] - 0s 8ms/step - loss: 1.3251 - accuracy: 0.5063 - val_loss: 1.4221 - val_accuracy: 0.4000\n",
            "Epoch 7/20\n",
            "32/32 [==============================] - 0s 7ms/step - loss: 1.2328 - accuracy: 0.5188 - val_loss: 1.2065 - val_accuracy: 0.5250\n",
            "Epoch 8/20\n",
            "32/32 [==============================] - 0s 12ms/step - loss: 1.1913 - accuracy: 0.5375 - val_loss: 1.0183 - val_accuracy: 0.6250\n",
            "Epoch 9/20\n",
            "32/32 [==============================] - 1s 18ms/step - loss: 1.1202 - accuracy: 0.5688 - val_loss: 0.9760 - val_accuracy: 0.6000\n",
            "Epoch 10/20\n",
            "32/32 [==============================] - 0s 8ms/step - loss: 1.0761 - accuracy: 0.5813 - val_loss: 0.9844 - val_accuracy: 0.6000\n",
            "Epoch 11/20\n",
            "32/32 [==============================] - 0s 15ms/step - loss: 1.0336 - accuracy: 0.5750 - val_loss: 0.9492 - val_accuracy: 0.6500\n",
            "Epoch 12/20\n",
            "32/32 [==============================] - 0s 7ms/step - loss: 1.0112 - accuracy: 0.6000 - val_loss: 1.3492 - val_accuracy: 0.4750\n",
            "Epoch 13/20\n",
            "32/32 [==============================] - 0s 11ms/step - loss: 1.1082 - accuracy: 0.5437 - val_loss: 0.9268 - val_accuracy: 0.6250\n",
            "Epoch 14/20\n",
            "32/32 [==============================] - 0s 12ms/step - loss: 1.0088 - accuracy: 0.5938 - val_loss: 0.8909 - val_accuracy: 0.6500\n",
            "Epoch 15/20\n",
            "32/32 [==============================] - 0s 7ms/step - loss: 0.9690 - accuracy: 0.6000 - val_loss: 1.2291 - val_accuracy: 0.5500\n",
            "Epoch 16/20\n",
            "32/32 [==============================] - 0s 9ms/step - loss: 1.0606 - accuracy: 0.6000 - val_loss: 0.8430 - val_accuracy: 0.7000\n",
            "Epoch 17/20\n",
            "32/32 [==============================] - 0s 9ms/step - loss: 1.0104 - accuracy: 0.5938 - val_loss: 1.0516 - val_accuracy: 0.6250\n",
            "Epoch 18/20\n",
            "32/32 [==============================] - 0s 7ms/step - loss: 0.9476 - accuracy: 0.6125 - val_loss: 0.8846 - val_accuracy: 0.6500\n",
            "Epoch 19/20\n",
            "32/32 [==============================] - 0s 8ms/step - loss: 0.9563 - accuracy: 0.6250 - val_loss: 0.8139 - val_accuracy: 0.7250\n",
            "Epoch 20/20\n",
            "32/32 [==============================] - 0s 11ms/step - loss: 0.9593 - accuracy: 0.6125 - val_loss: 1.1180 - val_accuracy: 0.5750\n"
          ]
        },
        {
          "output_type": "execute_result",
          "data": {
            "text/plain": [
              "<keras.callbacks.History at 0x7f8be89ab700>"
            ]
          },
          "metadata": {},
          "execution_count": 558
        }
      ]
    },
    {
      "cell_type": "markdown",
      "source": [
        "#Task 3 : Test the model with random data"
      ],
      "metadata": {
        "id": "AM276koXcS6Y"
      }
    },
    {
      "cell_type": "code",
      "source": [
        "model.predict([[48,1,0,1,15.036]])"
      ],
      "metadata": {
        "colab": {
          "base_uri": "https://localhost:8080/"
        },
        "id": "oyudxSLwa_wz",
        "outputId": "3d7ccdfd-91d0-485c-d535-ecd10e74b16f"
      },
      "execution_count": null,
      "outputs": [
        {
          "output_type": "stream",
          "name": "stderr",
          "text": [
            "WARNING:tensorflow:5 out of the last 17 calls to <function Model.make_predict_function.<locals>.predict_function at 0x7f8be89b6cb0> triggered tf.function retracing. Tracing is expensive and the excessive number of tracings could be due to (1) creating @tf.function repeatedly in a loop, (2) passing tensors with different shapes, (3) passing Python objects instead of tensors. For (1), please define your @tf.function outside of the loop. For (2), @tf.function has reduce_retracing=True option that can avoid unnecessary retracing. For (3), please refer to https://www.tensorflow.org/guide/function#controlling_retracing and https://www.tensorflow.org/api_docs/python/tf/function for  more details.\n"
          ]
        },
        {
          "output_type": "stream",
          "name": "stdout",
          "text": [
            "1/1 [==============================] - 0s 252ms/step\n"
          ]
        },
        {
          "output_type": "execute_result",
          "data": {
            "text/plain": [
              "array([[0.80845374, 0.15095457, 0.00952519, 0.01580082, 0.01526561]],\n",
              "      dtype=float32)"
            ]
          },
          "metadata": {},
          "execution_count": 559
        }
      ]
    },
    {
      "cell_type": "code",
      "source": [
        "model.predict([[23,0,1,1,16.036]])"
      ],
      "metadata": {
        "colab": {
          "base_uri": "https://localhost:8080/"
        },
        "id": "LN9QhZjmdqQo",
        "outputId": "f0821d46-feb6-4b0d-de62-1ef077e19b8b"
      },
      "execution_count": null,
      "outputs": [
        {
          "output_type": "stream",
          "name": "stdout",
          "text": [
            "1/1 [==============================] - 0s 42ms/step\n"
          ]
        },
        {
          "output_type": "execute_result",
          "data": {
            "text/plain": [
              "array([[0.79638964, 0.112477  , 0.0149847 , 0.033846  , 0.04230259]],\n",
              "      dtype=float32)"
            ]
          },
          "metadata": {},
          "execution_count": 560
        }
      ]
    },
    {
      "cell_type": "code",
      "source": [
        "model.predict([[23,0,0,1,16.036],[12,0,1,1,19.36],[33,1,0,1,14.06],[27,1,1,0,20.68],[19,1,0,0,3.036]])"
      ],
      "metadata": {
        "id": "wKgmk2NqfLco",
        "colab": {
          "base_uri": "https://localhost:8080/"
        },
        "outputId": "42a549d9-6b5a-4858-99a2-2edaee4c2a18"
      },
      "execution_count": null,
      "outputs": [
        {
          "output_type": "stream",
          "name": "stdout",
          "text": [
            "1/1 [==============================] - 0s 42ms/step\n"
          ]
        },
        {
          "output_type": "execute_result",
          "data": {
            "text/plain": [
              "array([[0.8114479 , 0.12520224, 0.01186253, 0.0249824 , 0.02650493],\n",
              "       [0.6243534 , 0.1472001 , 0.03878403, 0.08170263, 0.10795984],\n",
              "       [0.79907405, 0.14902362, 0.01119664, 0.02079577, 0.01990997],\n",
              "       [0.8598175 , 0.08583025, 0.00838822, 0.02026186, 0.02570217],\n",
              "       [0.15061057, 0.17659082, 0.17101218, 0.23020568, 0.27158082]],\n",
              "      dtype=float32)"
            ]
          },
          "metadata": {},
          "execution_count": 561
        }
      ]
    }
  ]
}